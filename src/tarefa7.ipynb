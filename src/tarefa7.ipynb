{
 "cells": [
  {
   "cell_type": "markdown",
   "metadata": {},
   "source": [
    "Comparação de ensembles: Tarefa 7 da disciplina Reconhecimento de Padrões. \n",
    "\n",
    "Professor: Francisco de Assis Boldt \n",
    "\n",
    "Aluno: Diogo de Santana Candido"
   ]
  },
  {
   "cell_type": "code",
   "execution_count": 87,
   "metadata": {},
   "outputs": [
    {
     "name": "stdout",
     "output_type": "stream",
     "text": [
      "Versão da Linguagem Python Usada Neste Jupyter Notebook: 3.8.10\n"
     ]
    }
   ],
   "source": [
    "# Versão da Linguagem Python\n",
    "from platform import python_version\n",
    "print('Versão da Linguagem Python Usada Neste Jupyter Notebook:', python_version())"
   ]
  },
  {
   "cell_type": "markdown",
   "metadata": {},
   "source": [
    "1. Use uma base de dados para classificação com pelo menos 1000 amostras;"
   ]
  },
  {
   "cell_type": "markdown",
   "metadata": {},
   "source": [
    "O dataset utilizado foi o \"Dados de risco a saúde materna\" que pode ser obtido no link: https://archive.ics.uci.edu/ml/datasets/Maternal+Health+Risk+Data+Set#\n",
    "\n",
    "Esses dados foram coletados de diferentes hospitais, clínicas comunitárias, cuidados de saúde materna das áreas rurais de Bangladesh por meio do sistema de monitoramento de risco baseado em IoT. "
   ]
  },
  {
   "cell_type": "code",
   "execution_count": 88,
   "metadata": {},
   "outputs": [
    {
     "data": {
      "text/plain": [
       "((1014, 6), (1014,))"
      ]
     },
     "execution_count": 88,
     "metadata": {},
     "output_type": "execute_result"
    }
   ],
   "source": [
    "import pandas as pd\n",
    "df = pd.read_csv(\"https://archive.ics.uci.edu/ml/machine-learning-databases/00639/Maternal%20Health%20Risk%20Data%20Set.csv\")\n",
    "X, y = df.iloc[:, :6], df.iloc[:, -1]\n",
    "X.shape, y.shape"
   ]
  },
  {
   "cell_type": "code",
   "execution_count": 89,
   "metadata": {},
   "outputs": [
    {
     "data": {
      "text/plain": [
       "((760, 6), (254, 6), (760,), (254,))"
      ]
     },
     "execution_count": 89,
     "metadata": {},
     "output_type": "execute_result"
    }
   ],
   "source": [
    "from sklearn.model_selection import train_test_split\n",
    "X_tr, X_te, y_tr, y_te = train_test_split(X, y, random_state=42)\n",
    "X_tr.shape, X_te.shape, y_tr.shape, y_te.shape"
   ]
  },
  {
   "cell_type": "markdown",
   "metadata": {},
   "source": [
    "2. Escolha pelo menos três algoritmos de classificação;"
   ]
  },
  {
   "cell_type": "code",
   "execution_count": 90,
   "metadata": {},
   "outputs": [
    {
     "name": "stdout",
     "output_type": "stream",
     "text": [
      "KNeighborsClassifier() 0.6653543307086615\n",
      "GaussianNB() 0.5787401574803149\n",
      "Perceptron() 0.4881889763779528\n",
      "DecisionTreeClassifier() 0.7913385826771654\n",
      "RandomForestClassifier() 0.8031496062992126\n"
     ]
    }
   ],
   "source": [
    "from sklearn.neighbors import KNeighborsClassifier\n",
    "from sklearn.naive_bayes import GaussianNB\n",
    "from sklearn.linear_model import Perceptron\n",
    "from sklearn.tree import DecisionTreeClassifier\n",
    "from sklearn.ensemble import RandomForestClassifier\n",
    "\n",
    "\n",
    "for Algoritmo in [KNeighborsClassifier, GaussianNB, Perceptron, DecisionTreeClassifier, RandomForestClassifier]:\n",
    "    modelo = Algoritmo()\n",
    "    modelo.fit(X_tr, y_tr)\n",
    "    y_pr = modelo.predict(X_te)\n",
    "    hits = y_pr == y_te\n",
    "    print(modelo, sum(hits)/len(hits))"
   ]
  },
  {
   "cell_type": "markdown",
   "metadata": {},
   "source": [
    "3. Combine os classificadores de duas formas diferentes: Voting e Stacking"
   ]
  },
  {
   "cell_type": "code",
   "execution_count": 91,
   "metadata": {},
   "outputs": [
    {
     "data": {
      "text/plain": [
       "0.7992125984251969"
      ]
     },
     "execution_count": 91,
     "metadata": {},
     "output_type": "execute_result"
    }
   ],
   "source": [
    "#Voting Classifier\n",
    "\n",
    "from sklearn.ensemble import VotingClassifier\n",
    "modelo = VotingClassifier([\n",
    "    ('knn', KNeighborsClassifier()),\n",
    "    ('naivebayes', GaussianNB()),\n",
    "    ('perceptron', Perceptron()),\n",
    "    ('arvore', DecisionTreeClassifier()),\n",
    "    ('randomforest', RandomForestClassifier(random_state=42))\n",
    "])\n",
    "modelo.fit(X_tr, y_tr)\n",
    "y_pr = modelo.predict(X_te)\n",
    "hits = y_pr == y_te\n",
    "sum(hits)/len(hits)"
   ]
  },
  {
   "cell_type": "code",
   "execution_count": 92,
   "metadata": {},
   "outputs": [
    {
     "data": {
      "text/plain": [
       "0.7677165354330708"
      ]
     },
     "execution_count": 92,
     "metadata": {},
     "output_type": "execute_result"
    }
   ],
   "source": [
    "# Stacking Classifier\n",
    "\n",
    "from sklearn.ensemble import StackingClassifier\n",
    "\n",
    "modelo = StackingClassifier([\n",
    "    ('knn', KNeighborsClassifier()),\n",
    "    ('naivebayes', GaussianNB()),\n",
    "    ('perceptron', Perceptron()),\n",
    "    ('arvore', DecisionTreeClassifier()),\n",
    "    ('randomforest', RandomForestClassifier(random_state=42))\n",
    "])\n",
    "modelo.fit(X_tr, y_tr)\n",
    "y_pr = modelo.predict(X_te)\n",
    "hits = y_pr == y_te\n",
    "sum(hits)/len(hits)\n"
   ]
  },
  {
   "cell_type": "code",
   "execution_count": 93,
   "metadata": {},
   "outputs": [
    {
     "data": {
      "text/plain": [
       "0.7913385826771654"
      ]
     },
     "execution_count": 93,
     "metadata": {},
     "output_type": "execute_result"
    }
   ],
   "source": [
    "# Voting e Stacking Classifier\n",
    "from sklearn.ensemble import ExtraTreesClassifier\n",
    "\n",
    "voting = VotingClassifier([\n",
    "    ('knn', KNeighborsClassifier()),\n",
    "    ('naivebayes', GaussianNB()),\n",
    "    ('perceptron', Perceptron()),\n",
    "    ('arvore', DecisionTreeClassifier()),\n",
    "    ('randomforest', RandomForestClassifier(random_state=42))\n",
    "])\n",
    "\n",
    "modelo = StackingClassifier([\n",
    "    ('voting', voting),\n",
    "    ('extratrees', ExtraTreesClassifier(random_state=42))\n",
    "\n",
    "])\n",
    "modelo.fit(X_tr, y_tr)\n",
    "y_pr = modelo.predict(X_te)\n",
    "hits = y_pr == y_te\n",
    "sum(hits)/len(hits)\n"
   ]
  },
  {
   "cell_type": "markdown",
   "metadata": {},
   "source": [
    "4. Use gridsearch (ou randomsearch) para ajustar tantos os classificadores fracos quanto o ensemble;"
   ]
  },
  {
   "cell_type": "code",
   "execution_count": 94,
   "metadata": {},
   "outputs": [
    {
     "data": {
      "text/plain": [
       "0.7952755905511811"
      ]
     },
     "execution_count": 94,
     "metadata": {},
     "output_type": "execute_result"
    }
   ],
   "source": [
    "from sklearn.model_selection import GridSearchCV\n",
    "import numpy as np\n",
    "\n",
    "par_knn = {'n_neighbors': [3,5,7]}\n",
    "gs_knn = GridSearchCV(KNeighborsClassifier(), par_knn)\n",
    "\n",
    "par_nb = {'var_smoothing': np.logspace(0,-9, num=100)}\n",
    "gs_naivebayes = GridSearchCV(GaussianNB(), par_nb)\n",
    "\n",
    "par_per = {'alpha': [0.0001, 0.0003, 0.001, 0.003, 0.01, 0.03, 0.1, 0.3]}\n",
    "gs_perceptron = GridSearchCV(Perceptron(), par_per)\n",
    "\n",
    "par_arvore = {'max_depth': [10, 15, 25]}\n",
    "gs_arvore = GridSearchCV(DecisionTreeClassifier(), par_arvore)\n",
    "\n",
    "par_randomforest = {'max_depth': [10, 15, 25], 'n_estimators': [100, 150, 200]}\n",
    "gs_randomforest = GridSearchCV(RandomForestClassifier(random_state=42), par_randomforest)\n",
    "\n",
    "voting = VotingClassifier([\n",
    "    ('gs_knn', gs_knn),\n",
    "    ('gs_naivebayes', gs_naivebayes),\n",
    "    ('gs_perceptron', gs_perceptron),\n",
    "    ('gs_arvore', gs_arvore),\n",
    "    ('gs_randomforest', gs_randomforest)\n",
    "])\n",
    "\n",
    "modelo = StackingClassifier([\n",
    "    ('voting', voting),\n",
    "    ('extratrees', ExtraTreesClassifier(random_state=42))\n",
    "])\n",
    "modelo.fit(X_tr, y_tr)\n",
    "y_pr = modelo.predict(X_te)\n",
    "hits = y_pr == y_te\n",
    "sum(hits)/len(hits)\n",
    "\n"
   ]
  },
  {
   "cell_type": "markdown",
   "metadata": {},
   "source": [
    "5. Coloque o Jupyter Notebook no seu GitHub."
   ]
  }
 ],
 "metadata": {
  "kernelspec": {
   "display_name": "Python 3.8.10 ('.venv': venv)",
   "language": "python",
   "name": "python3"
  },
  "language_info": {
   "codemirror_mode": {
    "name": "ipython",
    "version": 3
   },
   "file_extension": ".py",
   "mimetype": "text/x-python",
   "name": "python",
   "nbconvert_exporter": "python",
   "pygments_lexer": "ipython3",
   "version": "3.8.10"
  },
  "orig_nbformat": 4,
  "vscode": {
   "interpreter": {
    "hash": "815f65bdaabb4a34cfa79d14b7891c7753570952fa824e0421a678f5582bbfd3"
   }
  }
 },
 "nbformat": 4,
 "nbformat_minor": 2
}
