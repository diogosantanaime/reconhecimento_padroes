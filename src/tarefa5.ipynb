{
 "cells": [
  {
   "cell_type": "markdown",
   "metadata": {},
   "source": [
    "Heurística para escolher o melhor valor de cada característica: Tarefa 5 da disciplina Reconhecimento de Padrões. \n",
    "\n",
    "Professor: Francisco de Assis Boldt \n",
    "\n",
    "Aluno: Diogo de Santana Candido"
   ]
  },
  {
   "cell_type": "code",
   "execution_count": 244,
   "metadata": {},
   "outputs": [
    {
     "name": "stdout",
     "output_type": "stream",
     "text": [
      "Versão da Linguagem Python Usada Neste Jupyter Notebook: 3.8.10\n"
     ]
    }
   ],
   "source": [
    "# Versão da Linguagem Python\n",
    "from platform import python_version\n",
    "print('Versão da Linguagem Python Usada Neste Jupyter Notebook:', python_version())"
   ]
  },
  {
   "cell_type": "markdown",
   "metadata": {},
   "source": [
    "Carga do dataset com atributos contínuos."
   ]
  },
  {
   "cell_type": "code",
   "execution_count": 245,
   "metadata": {},
   "outputs": [],
   "source": [
    "from sklearn.datasets import load_iris\n",
    "iris = load_iris()\n",
    "X, y = iris.data[:,2:], iris.target"
   ]
  },
  {
   "cell_type": "markdown",
   "metadata": {},
   "source": [
    "Tarefa - Crie a sua heurística para escolher a melhor característica para um nó de uma árvore de decisão e compare com a implementação feita nos vídeos postados nesse tópico aqui no AVA e com a implementação do scikit learn."
   ]
  },
  {
   "cell_type": "markdown",
   "metadata": {},
   "source": [
    "Cálculo das impurezas"
   ]
  },
  {
   "cell_type": "code",
   "execution_count": 246,
   "metadata": {},
   "outputs": [],
   "source": [
    "import numpy as np\n",
    "import math\n",
    "\n",
    "# Impureza de Gini\n",
    "\n",
    "def impureza(y): \n",
    "    labels = list(set(y))\n",
    "    labels.sort()\n",
    "    probabilidades = np.zeros((len(labels),))\n",
    "    for i,k in enumerate(labels):\n",
    "        probabilidades[i] = sum(y==k)/len(y)\n",
    "    result = 1 - sum(probabilidades**2)\n",
    "    return result\n",
    "\n",
    "# Cálculo dos valores das impurezas utilizando atributos continuos \n",
    "\n",
    "def impurezaValor(x, y, valor):\n",
    "    maiores = x > valor\n",
    "    impurezaMaiores = impureza(y[maiores])\n",
    "    propMaiores = sum(maiores)/len(y)\n",
    "    impurezaMenores = impureza(y[~maiores])\n",
    "    propMenores = sum(~maiores)/len(y)\n",
    "    impurezaTotal = impurezaMaiores*propMaiores + impurezaMenores*propMenores\n",
    "    return impurezaTotal, impurezaMaiores, impurezaMenores"
   ]
  },
  {
   "cell_type": "markdown",
   "metadata": {},
   "source": [
    "Cálculo da heurística 1 cujo o valor é a média geométrica entre o maior e o menor valor."
   ]
  },
  {
   "cell_type": "code",
   "execution_count": 247,
   "metadata": {},
   "outputs": [
    {
     "data": {
      "text/plain": [
       "(2.6267851073127395, 0.3333333333333333)"
      ]
     },
     "execution_count": 247,
     "metadata": {},
     "output_type": "execute_result"
    }
   ],
   "source": [
    "# Heurística 1 utilizando média geométrica\n",
    "\n",
    "def melhorValor1(x, y):\n",
    "   result = None\n",
    "   menorImpureza = float('inf')\n",
    "   xmax = np.max(x)\n",
    "   xmin = np.min(x)\n",
    "   while True:\n",
    "        valor = math.sqrt(xmin*xmax) # média geométrica\n",
    "        impTotal, impMaiores, impMenores =  impurezaValor(x, y, valor)\n",
    "        if impTotal < menorImpureza:\n",
    "            menorImpureza = impTotal\n",
    "            result = valor\n",
    "            if impMaiores == 0 or impMenores == 0:\n",
    "                break\n",
    "            if impMaiores < impMenores:\n",
    "                xmin = valor\n",
    "            else:\n",
    "                xmax = valor\n",
    "        else:\n",
    "            break\n",
    "   return result, menorImpureza\n",
    "\n",
    "melhorValor1(X[:,0], y)"
   ]
  },
  {
   "cell_type": "markdown",
   "metadata": {},
   "source": [
    "Cálculo da heurística 2 cujo o valor é a média aritmética entre o maior e o menor valor (conforme os vídeos da disciplina)."
   ]
  },
  {
   "cell_type": "code",
   "execution_count": 248,
   "metadata": {},
   "outputs": [
    {
     "data": {
      "text/plain": [
       "(2.475, 0.3333333333333333)"
      ]
     },
     "execution_count": 248,
     "metadata": {},
     "output_type": "execute_result"
    }
   ],
   "source": [
    "# Heurística 2 utilizando média aritimética (vídeo)\n",
    "\n",
    "def melhorValor2(x, y):\n",
    "   result = None\n",
    "   menorImpureza = float('inf')\n",
    "   xmax = np.max(x)\n",
    "   xmin = np.min(x)\n",
    "   while True:\n",
    "        valor = (xmin+xmax)/2 # média aritmética\n",
    "        impTotal, impMaiores, impMenores =  impurezaValor(x, y, valor)\n",
    "        if impTotal < menorImpureza:\n",
    "            menorImpureza = impTotal\n",
    "            result = valor\n",
    "            if impMaiores == 0 or impMenores == 0:\n",
    "                break\n",
    "            if impMaiores < impMenores:\n",
    "                xmin = valor\n",
    "            else:\n",
    "                xmax = valor\n",
    "        else:\n",
    "            break\n",
    "   return result, menorImpureza\n",
    "\n",
    "melhorValor2(X[:,0], y)"
   ]
  },
  {
   "cell_type": "markdown",
   "metadata": {},
   "source": [
    "Cálculo da melhor característica utilizando a heurística 1."
   ]
  },
  {
   "cell_type": "code",
   "execution_count": 249,
   "metadata": {},
   "outputs": [
    {
     "data": {
      "text/plain": [
       "(0, 2.6267851073127395, 0.3333333333333333)"
      ]
     },
     "execution_count": 249,
     "metadata": {},
     "output_type": "execute_result"
    }
   ],
   "source": [
    "\n",
    "def melhorCaracteristica1(X, y):\n",
    "    impurezas = []\n",
    "    valores =  []\n",
    "    for caracteristica in range(X.shape[1]):\n",
    "      valor, imp = melhorValor1(X[:, caracteristica], y)\n",
    "      impurezas.append(imp) \n",
    "      valores.append(valor)\n",
    "    impurezas = np.array(impurezas)\n",
    "    caracteristica = np.argmin(impurezas)\n",
    "    return caracteristica, valores[caracteristica], impurezas[caracteristica]\n",
    "\n",
    "melhorCaracteristica1(X, y)"
   ]
  },
  {
   "cell_type": "markdown",
   "metadata": {},
   "source": [
    "Cálculo da melhor característica utilizando a heurística 2 (conforme os vídeos da disciplina)."
   ]
  },
  {
   "cell_type": "code",
   "execution_count": 250,
   "metadata": {},
   "outputs": [
    {
     "data": {
      "text/plain": [
       "(0, 2.475, 0.3333333333333333)"
      ]
     },
     "execution_count": 250,
     "metadata": {},
     "output_type": "execute_result"
    }
   ],
   "source": [
    "\n",
    "def melhorCaracteristica2(X, y):\n",
    "    impurezas = []\n",
    "    valores =  []\n",
    "    for caracteristica in range(X.shape[1]):\n",
    "      valor, imp = melhorValor2(X[:, caracteristica], y)\n",
    "      impurezas.append(imp) \n",
    "      valores.append(valor)\n",
    "    impurezas = np.array(impurezas)\n",
    "    caracteristica = np.argmin(impurezas)\n",
    "    return caracteristica, valores[caracteristica], impurezas[caracteristica]\n",
    "\n",
    "melhorCaracteristica2(X, y)"
   ]
  },
  {
   "cell_type": "markdown",
   "metadata": {},
   "source": [
    "Implementação da árvore de decisão utilizando a heurística 1."
   ]
  },
  {
   "cell_type": "code",
   "execution_count": 251,
   "metadata": {},
   "outputs": [],
   "source": [
    "from sklearn.metrics import accuracy_score\n",
    "import numpy as np\n",
    "from collections import Counter\n",
    "from sklearn.base import BaseEstimator, ClassifierMixin\n",
    "\n",
    "def maisFrequente(y):\n",
    "    return Counter(y.flat).most_common(1)[0][0]\n",
    "\n",
    "class Arvore1(BaseEstimator, ClassifierMixin):\n",
    "    def fit(self, X, y):\n",
    "        self.caracteristica, self.valor, self.imp = melhorCaracteristica1(X, y)\n",
    "        maiores = X[:,self.caracteristica] > self.valor\n",
    "        if sum(maiores)>0 and sum(~maiores)>0:\n",
    "            self.maiores = Arvore1()\n",
    "            self.maiores.fit(X[maiores,:],y[maiores])\n",
    "            self.menores = Arvore1()\n",
    "            self.menores.fit(X[~maiores,:],y[~maiores])\n",
    "        else:\n",
    "            self.resposta = maisFrequente(y)\n",
    "    def predict(self, X):\n",
    "        y = np.empty((X.shape[0]))\n",
    "        if hasattr(self, 'resposta'):\n",
    "            y[:] = self.resposta\n",
    "        else:\n",
    "            maiores = X[:,self.caracteristica] > self.valor\n",
    "            y[maiores] = self.maiores.predict(X[maiores,:])\n",
    "            y[~maiores] = self.menores.predict(X[~maiores,:])\n",
    "        return y\n",
    "\n"
   ]
  },
  {
   "cell_type": "markdown",
   "metadata": {},
   "source": [
    "Implementação da árvore de decisão utilizando a heurística 2 (conforme os vídeos da disciplina)."
   ]
  },
  {
   "cell_type": "code",
   "execution_count": 252,
   "metadata": {},
   "outputs": [],
   "source": [
    "class Arvore2(BaseEstimator, ClassifierMixin):\n",
    "    def fit(self, X, y):\n",
    "        self.caracteristica, self.valor, self.imp = melhorCaracteristica2(X, y)\n",
    "        maiores = X[:,self.caracteristica] > self.valor\n",
    "        if sum(maiores)>0 and sum(~maiores)>0:\n",
    "            self.maiores = Arvore2()\n",
    "            self.maiores.fit(X[maiores,:],y[maiores])\n",
    "            self.menores = Arvore2()\n",
    "            self.menores.fit(X[~maiores,:],y[~maiores])\n",
    "        else:\n",
    "            self.resposta = maisFrequente(y)\n",
    "    def predict(self, X):\n",
    "        y = np.empty((X.shape[0]))\n",
    "        if hasattr(self, 'resposta'):\n",
    "            y[:] = self.resposta\n",
    "        else:\n",
    "            maiores = X[:,self.caracteristica] > self.valor\n",
    "            y[maiores] = self.maiores.predict(X[maiores,:])\n",
    "            y[~maiores] = self.menores.predict(X[~maiores,:])\n",
    "        return y\n"
   ]
  },
  {
   "cell_type": "markdown",
   "metadata": {},
   "source": [
    "Avaliação dos algoritmos de classificação"
   ]
  },
  {
   "cell_type": "code",
   "execution_count": 253,
   "metadata": {},
   "outputs": [
    {
     "name": "stdout",
     "output_type": "stream",
     "text": [
      "Modelo:  Arvore1() Acurácia:  0.9933333333333333\n",
      "Modelo:  Arvore2() Acurácia:  0.9933333333333333\n",
      "Modelo:  DecisionTreeClassifier() Acurácia:  0.9933333333333333\n",
      "Modelo:  KNeighborsClassifier() Acurácia:  0.96\n",
      "Modelo:  LogisticRegression() Acurácia:  0.9666666666666667\n"
     ]
    }
   ],
   "source": [
    "from sklearn.tree import DecisionTreeClassifier\n",
    "from sklearn.neighbors import KNeighborsClassifier\n",
    "from sklearn.linear_model import LogisticRegression\n",
    "\n",
    "\n",
    "for Algoritmo in [Arvore1, Arvore2, DecisionTreeClassifier, KNeighborsClassifier, LogisticRegression]:\n",
    "    modelo = Algoritmo()\n",
    "    modelo.fit(X,y)\n",
    "    ypred = modelo.predict(X)\n",
    "    print(\"Modelo: \", modelo, \"Acurácia: \", accuracy_score(y, ypred))"
   ]
  },
  {
   "cell_type": "markdown",
   "metadata": {},
   "source": [
    "Tarefa: Faça comparações plotando as regiões de decisão com resubstituição para a base iris e as características usadas nos vídeos."
   ]
  },
  {
   "cell_type": "code",
   "execution_count": 254,
   "metadata": {},
   "outputs": [],
   "source": [
    "import matplotlib.pyplot as plt\n",
    "\n",
    "def plotDecisao(modelo, X, y):\n",
    "    modelo.fit(X, y)\n",
    "    x0s = np.linspace(np.min(X[:,0])-0.2, np.max(X[:,0])+0.2, 100)\n",
    "    x1s = np.linspace(np.min(X[:,1])-0.2, np.max(X[:,1])+0.2, 100)\n",
    "    x0, x1 = np.meshgrid(x0s, x1s)\n",
    "    Xdec = np.c_[x0.ravel(), x1.ravel()]\n",
    "    ypred = modelo.predict(Xdec)\n",
    "    plt.contourf(x0, x1, ypred.reshape(x0.shape), alpha=0.25)\n",
    "    for k in set(y):\n",
    "        plt.plot(X[:,0][y==k], X[:,1][y==k], 'o', label=f\"{iris.target_names[k]} [{k}]\")\n",
    "\n",
    "    plt.xlabel(f\"X[0]: {iris.feature_names[0]}\")\n",
    "    plt.ylabel(f\"X[1]: {iris.feature_names[1]}\")\n",
    "    plt.show()"
   ]
  },
  {
   "cell_type": "code",
   "execution_count": 255,
   "metadata": {},
   "outputs": [
    {
     "name": "stdout",
     "output_type": "stream",
     "text": [
      "Modelo:  Arvore1()\n"
     ]
    },
    {
     "data": {
      "image/png": "[encoded data removed]",
      "text/plain": [
       "<Figure size 432x288 with 1 Axes>"
      ]
     },
     "metadata": {
      "needs_background": "light"
     },
     "output_type": "display_data"
    },
    {
     "name": "stdout",
     "output_type": "stream",
     "text": [
      "Modelo:  Arvore2()\n"
     ]
    },
    {
     "data": {
      "image/png": "[encoded data removed]",
      "text/plain": [
       "<Figure size 432x288 with 1 Axes>"
      ]
     },
     "metadata": {
      "needs_background": "light"
     },
     "output_type": "display_data"
    },
    {
     "name": "stdout",
     "output_type": "stream",
     "text": [
      "Modelo:  DecisionTreeClassifier()\n"
     ]
    },
    {
     "data": {
      "image/png": "[encoded data removed]",
      "text/plain": [
       "<Figure size 432x288 with 1 Axes>"
      ]
     },
     "metadata": {
      "needs_background": "light"
     },
     "output_type": "display_data"
    },
    {
     "name": "stdout",
     "output_type": "stream",
     "text": [
      "Modelo:  KNeighborsClassifier()\n"
     ]
    },
    {
     "data": {
      "image/png": "[encoded data removed]",
      "text/plain": [
       "<Figure size 432x288 with 1 Axes>"
      ]
     },
     "metadata": {
      "needs_background": "light"
     },
     "output_type": "display_data"
    },
    {
     "name": "stdout",
     "output_type": "stream",
     "text": [
      "Modelo:  LogisticRegression()\n"
     ]
    },
    {
     "data": {
      "image/png": "[encoded data removed]",
      "text/plain": [
       "<Figure size 432x288 with 1 Axes>"
      ]
     },
     "metadata": {
      "needs_background": "light"
     },
     "output_type": "display_data"
    }
   ],
   "source": [
    "for Algoritmo in [Arvore1, Arvore2, DecisionTreeClassifier, KNeighborsClassifier, LogisticRegression]:\n",
    "    modelo = Algoritmo()\n",
    "    print(\"Modelo: \", modelo)\n",
    "    plotDecisao(modelo, X, y)"
   ]
  },
  {
   "cell_type": "markdown",
   "metadata": {},
   "source": [
    "Tarefa: Também faça comparações usando validação cruzada com pelo menos 3 bases de classificação com atributos contínuos. Escreva um parágrafo expondo sua interpretação dos resultados obtidos."
   ]
  },
  {
   "cell_type": "markdown",
   "metadata": {},
   "source": [
    "O primeiro conjunto de dados escolhido é o censo de 1994 que possui seus metadados em: https://archive.ics.uci.edu/ml/datasets/Adult\n",
    "\n",
    "A tarefa de previsão é determinar se uma pessoa ganha mais de 50 mil dolares por ano (rótulo discreto). Para essa classificação são utilizados as características idade e horas por semana de trabalho da pessoa (atributo contínuos)."
   ]
  },
  {
   "cell_type": "code",
   "execution_count": 321,
   "metadata": {},
   "outputs": [
    {
     "name": "stdout",
     "output_type": "stream",
     "text": [
      "Modelo:  Arvore1()\n",
      "[0.75387686 0.75737101 0.76243857 0.75967445 0.75752457] 0.7581770922339783\n",
      "Modelo:  Arvore2()\n",
      "[0.75387686 0.75691032 0.76259214 0.7602887  0.75844595] 0.7584227924796788\n",
      "Modelo:  DecisionTreeClassifier()\n",
      "[0.75664057 0.75706388 0.7664312  0.76197789 0.7590602 ] 0.7602347469113936\n",
      "Modelo:  KNeighborsClassifier()\n",
      "[0.71702748 0.73387592 0.72850123 0.72542998 0.73449017] 0.7278649561583693\n",
      "Modelo:  LogisticRegression()\n",
      "[0.75172731 0.75015356 0.75568182 0.75660319 0.75706388] 0.7542459543208047\n"
     ]
    }
   ],
   "source": [
    "from sklearn.model_selection import cross_validate\n",
    "from sklearn import preprocessing\n",
    "\n",
    "\n",
    "data = np.loadtxt('/mnt/d/projetos/mestrado_ifes/reconhecimento_padroes/dataset/adult.data', dtype='str', delimiter=',')\n",
    "X, y = data[:,0::12], data[:,-1]\n",
    "X = X.astype(float)\n",
    "y = preprocessing.LabelEncoder().fit_transform(y)\n",
    "\n",
    "for Algoritmo in [Arvore1, Arvore2, DecisionTreeClassifier, KNeighborsClassifier, LogisticRegression]:\n",
    "    modelo = Algoritmo()\n",
    "    print(\"Modelo: \", modelo)\n",
    "    scores = cross_validate(modelo, X, y)\n",
    "    print(scores['test_score'], np.mean(scores['test_score']))\n",
    "\n",
    "\n"
   ]
  },
  {
   "cell_type": "markdown",
   "metadata": {},
   "source": [
    "Interpretação do resultado:  Observa-se com o resultado dos modelos (test_score) ficou próximo de 75% de acerto, isso demonstra que através das características idade e quantidade de horas de trabalho semanal consegue construir um modelo que acerte 75% da previsão da pessoa que ganha mais de 50 mil dolares por ano. "
   ]
  },
  {
   "cell_type": "markdown",
   "metadata": {},
   "source": [
    "O segundo conjunto de dados escolhido é o Fraude de Cartão de Crédito que possui seus metadados em: https://www.kaggle.com/datasets/dhanushnarayananr/credit-card-fraud\n",
    "\n",
    "A tarefa de previsão é determinar se uma transação é fraudulenta (rótulo discreto). Para essa classificação são utilizados as características distância_de_casa (a distância de casa onde a transação ocorreu)  e distância_da_última_transação (a distância da última transação aconteceu) (atributo contínuos).\n",
    "\n",
    "Obs.: Limitamos as 10.000 primeiras transações do conjunto de dados para a tarefa de classificação com o objetivo de o tempo de processamento ser razoável."
   ]
  },
  {
   "cell_type": "code",
   "execution_count": 269,
   "metadata": {},
   "outputs": [
    {
     "name": "stdout",
     "output_type": "stream",
     "text": [
      "Modelo:  Arvore1()\n",
      "[0.8575     0.8535     0.853      0.843      0.85442721] 0.8522854427213608\n",
      "Modelo:  Arvore2()\n",
      "[0.8545     0.8465     0.8435     0.843      0.84092046] 0.845684092046023\n",
      "Modelo:  DecisionTreeClassifier()\n",
      "[0.868      0.8575     0.856      0.856      0.85742871] 0.8589857428714357\n",
      "Modelo:  KNeighborsClassifier()\n",
      "[0.922      0.9135     0.912      0.915      0.91095548] 0.914691095547774\n",
      "Modelo:  LogisticRegression()\n",
      "[0.918      0.9165     0.9155     0.915      0.91595798] 0.9161915957978989\n"
     ]
    }
   ],
   "source": [
    "data = np.loadtxt('/mnt/d/projetos/mestrado_ifes/reconhecimento_padroes/dataset/card_transdata.csv', dtype='str', delimiter=',')\n",
    "\n",
    "X, y = data[1:10000,:2], data[1:10000,-1]\n",
    "X = X.astype(float)\n",
    "y = preprocessing.LabelEncoder().fit_transform(y)\n",
    "\n",
    "for Algoritmo in [Arvore1, Arvore2, DecisionTreeClassifier, KNeighborsClassifier, LogisticRegression]:\n",
    "    modelo = Algoritmo()\n",
    "    print(\"Modelo: \", modelo)\n",
    "    scores = cross_validate(modelo, X, y)\n",
    "    print(scores['test_score'], np.mean(scores['test_score']))\n"
   ]
  },
  {
   "cell_type": "markdown",
   "metadata": {},
   "source": [
    "Interpretação do resultado: Observa-se com o resultado dos modelos (test_scores) que utilizando o algoritmo de árvore de decisão a classificação teve a precisão de 85% de acerto e com outros algoritmos de classificação a precisão de acerto subiu para 91% de acerto. Isso demonstra que através das características distância de casa e distância da última transação consegue construir um modelo de árvore de decisão que acerte 85% da previsão se a operação é fraudulenta e um outro modelo de classificação que acerte 91% da previsão se a operação é fraudulenta. Essa diferença pode ser devido as características selecionadas se adaptarem melhor a outros modelos de classificação do que o de árvore de decisão."
   ]
  },
  {
   "cell_type": "markdown",
   "metadata": {},
   "source": [
    " O terceiro conjunto de dados escolhido é a previsão de ataque cardíaco que possui seus metadados em: https://www.kaggle.com/datasets/rashikrahmanpritom/heart-attack-analysis-prediction-dataset\n",
    "\n",
    "A tarefa de previsão é determinar se uma pessoa tem mais chances de sofre um ataque cardíaco (rótulo discreto). Para essa classificação são utilizados as características age:\"idade do paciente\", trtbps: \"pressão arterial em repouso (em mm Hg)\", chol: \"colestoral em mg/dl obtido através do sensor de IMC\" e thalach:\"frequência cardíaca máxima atingida\" (atributos contínuos)."
   ]
  },
  {
   "cell_type": "code",
   "execution_count": 334,
   "metadata": {},
   "outputs": [
    {
     "name": "stdout",
     "output_type": "stream",
     "text": [
      "Modelo:  Arvore1()\n",
      "[0.62295082 0.63934426 0.57377049 0.63333333 0.58333333] 0.6105464480874316\n",
      "Modelo:  Arvore2()\n",
      "[0.59016393 0.55737705 0.47540984 0.63333333 0.75      ] 0.6012568306010928\n",
      "Modelo:  DecisionTreeClassifier()\n",
      "[0.60655738 0.67213115 0.47540984 0.6        0.61666667] 0.5941530054644809\n",
      "Modelo:  KNeighborsClassifier()\n",
      "[0.60655738 0.6557377  0.57377049 0.75       0.65      ] 0.6472131147540983\n",
      "Modelo:  LogisticRegression()\n",
      "[0.63934426 0.6557377  0.73770492 0.76666667 0.7       ] 0.6998907103825136\n"
     ]
    }
   ],
   "source": [
    "data = np.loadtxt('/mnt/d/projetos/mestrado_ifes/reconhecimento_padroes/dataset/heart.csv', dtype='str', delimiter=',')\n",
    "X, y = data[1:,[0, 3, 4, 7] ], data[1:,-1]\n",
    "X = X.astype(float)\n",
    "y = y.astype(int)\n",
    "\n",
    "for Algoritmo in [Arvore1, Arvore2, DecisionTreeClassifier, KNeighborsClassifier, LogisticRegression]:\n",
    "    modelo = Algoritmo()\n",
    "    print(\"Modelo: \", modelo)\n",
    "    scores = cross_validate(modelo, X, y)\n",
    "    print(scores['test_score'], np.mean(scores['test_score']))\n",
    "\n"
   ]
  },
  {
   "cell_type": "markdown",
   "metadata": {},
   "source": [
    "Interpretação do resultado:  Observa-se com o resultado dos modelos (test_score) que utilizando o algoritmo de árvore de decisão a classificação teve a precisão próxima de 60% de acerto e para o modelos KNeighborsClassifier() e LogisticRegression() a precisão de acerto foi de 64,7% e de 69,9%, respectivamente. Isso demonstra que o modelo de regressão logística obtém o melhor \n",
    "resultado para prever se um paciente tem mais chances de sofrer um ataque cardíaco utilizando as características age:\"idade do paciente\", trtbps: \"pressão arterial em repouso (em mm Hg)\", chol: \"colestoral em mg/dl obtido através do sensor de IMC\" e thalach:\"frequência cardíaca máxima atingida\".\n",
    "\n",
    " "
   ]
  }
 ],
 "metadata": {
  "interpreter": {
   "hash": "815f65bdaabb4a34cfa79d14b7891c7753570952fa824e0421a678f5582bbfd3"
  },
  "kernelspec": {
   "display_name": "Python 3.8.10 ('.venv': venv)",
   "language": "python",
   "name": "python3"
  },
  "language_info": {
   "codemirror_mode": {
    "name": "ipython",
    "version": 3
   },
   "file_extension": ".py",
   "mimetype": "text/x-python",
   "name": "python",
   "nbconvert_exporter": "python",
   "pygments_lexer": "ipython3",
   "version": "3.8.10"
  },
  "orig_nbformat": 4
 },
 "nbformat": 4,
 "nbformat_minor": 2
}
