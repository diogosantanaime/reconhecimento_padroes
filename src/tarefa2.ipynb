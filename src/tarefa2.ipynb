{
 "cells": [
  {
   "cell_type": "markdown",
   "metadata": {},
   "source": [
    "Resolvendo um problema de regressão linear: Tarefa 2 da disciplina Reconhecimento de Padrões. \n",
    "\n",
    "Professor: Francisco de Assis Boldt \n",
    "\n",
    "Aluno: Diogo de Santana Candido"
   ]
  },
  {
   "cell_type": "code",
   "execution_count": null,
   "metadata": {},
   "outputs": [],
   "source": [
    "# Versão da Linguagem Python\n",
    "from platform import python_version\n",
    "print('Versão da Linguagem Python Usada Neste Jupyter Notebook:', python_version())\n",
    "\n"
   ]
  },
  {
   "cell_type": "markdown",
   "metadata": {},
   "source": [
    "Item 1: Carregue uma base de dados de regressão que NÃO esteja nos toy datasets do scikit-learn;\n",
    "\n",
    "Foi escolhido o Datasets \"3D Road Network (North Jutland, Dinamarca)\" da UCI Marchine Learning Repository que disponibiliza uma nuvem de pontos com os dados correspondentes ao id (identificador único), Longitude, Latitude e Altitude de cada ponto. Os seus metadados podem ser obtidos em https://archive.ics.uci.edu/ml/datasets/3D+Road+Network+%28North+Jutland%2C+Denmark%29#\n",
    "\n",
    "Este trabalho tem por objetivo construir uma regressão linear que com os dados de id, longitude e latitude consiga prever os dados de altitude de um ponto.  "
   ]
  },
  {
   "cell_type": "code",
   "execution_count": null,
   "metadata": {},
   "outputs": [],
   "source": [
    "import pandas as pd\n",
    "\n",
    "url = (\"https://archive.ics.uci.edu/ml/machine-learning-databases/00246/3D_spatial_network.txt\")\n",
    "df = pd.read_csv(url)\n",
    "\n",
    "X, y = df.iloc[:, :3], df.iloc[:, -1] \n"
   ]
  },
  {
   "cell_type": "markdown",
   "metadata": {},
   "source": [
    "Item 2: Treine um modelo da classe LinearRegression do scikit-learn com toda a base;"
   ]
  },
  {
   "cell_type": "code",
   "execution_count": null,
   "metadata": {},
   "outputs": [],
   "source": [
    "from sklearn.linear_model import LinearRegression\n",
    "modelo = LinearRegression()\n",
    "modelo.fit(X, y)\n",
    "ypred =  modelo.predict(X)\n",
    "intercept_ypred = modelo.intercept_\n",
    "coef_ypred = modelo.coef_\n",
    "print(\"Valor do Intercept: \", intercept_ypred)\n",
    "print(\"Valor dos coeficientes da Regressão Linear: \", coef_ypred)\n"
   ]
  },
  {
   "cell_type": "markdown",
   "metadata": {},
   "source": [
    "Item 3: Calcule o MSE (erro quadrático médio) para todos os exemplos da base usada como treino no modelo treinado (resubstituição);"
   ]
  },
  {
   "cell_type": "code",
   "execution_count": null,
   "metadata": {},
   "outputs": [],
   "source": [
    "from sklearn.metrics import mean_squared_error\n",
    "\n",
    "mse_ypred = mean_squared_error(y, ypred)\n",
    "print(\"Valor MSE: \", mse_ypred)\n"
   ]
  },
  {
   "cell_type": "markdown",
   "metadata": {},
   "source": [
    "Item 4: Plote em um gráfico (2D) o MSE em função do atributo intercept_ da classe LinearRegression. Mantenha os valores do atributo coef_ fixos e varie o valor de intercept_ entre intercept_ - delta e intercept_ + delta. O gráfico tem que ser uma parábola com concavidade para cima. Não plote um gráfico 3D com visão de cima."
   ]
  },
  {
   "cell_type": "code",
   "execution_count": null,
   "metadata": {},
   "outputs": [],
   "source": [
    "import numpy as np\n",
    "import matplotlib.pyplot as plt\n",
    "\n",
    "delta = 1\n",
    "iteracoes = 30\n",
    "intercept_range = np.linspace(intercept_ypred - delta, intercept_ypred + delta , iteracoes)\n",
    "\n",
    "mse = []\n",
    "\n",
    "for i in range(iteracoes):\n",
    "    modelo.intercept_ = intercept_range[i]\n",
    "    ypred =  modelo.predict(X)\n",
    "    mse.append(mean_squared_error(y, ypred))\n",
    "\n",
    "plt.ylabel(\"MSE\")\n",
    "plt.xlabel(\"Intercept\")\n",
    "plt.plot(intercept_range, mse)\n",
    "plt.show()\n"
   ]
  }
 ],
 "metadata": {
  "interpreter": {
   "hash": "815f65bdaabb4a34cfa79d14b7891c7753570952fa824e0421a678f5582bbfd3"
  },
  "kernelspec": {
   "display_name": "Python 3.8.10 ('.venv': venv)",
   "language": "python",
   "name": "python3"
  },
  "language_info": {
   "codemirror_mode": {
    "name": "ipython",
    "version": 3
   },
   "file_extension": ".py",
   "mimetype": "text/x-python",
   "name": "python",
   "nbconvert_exporter": "python",
   "pygments_lexer": "ipython3",
   "version": "3.8.10"
  },
  "orig_nbformat": 4
 },
 "nbformat": 4,
 "nbformat_minor": 2
}
