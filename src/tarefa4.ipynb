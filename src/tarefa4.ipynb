{
 "cells": [
  {
   "cell_type": "markdown",
   "metadata": {},
   "source": [
    "Avaliando a generalização de algoritmos: Tarefa 4 da disciplina Reconhecimento de Padrões. \n",
    "\n",
    "Professor: Francisco de Assis Boldt \n",
    "\n",
    "Aluno: Diogo de Santana Candido"
   ]
  },
  {
   "cell_type": "code",
   "execution_count": 90,
   "metadata": {},
   "outputs": [
    {
     "name": "stdout",
     "output_type": "stream",
     "text": [
      "Versão da Linguagem Python Usada Neste Jupyter Notebook: 3.8.10\n"
     ]
    }
   ],
   "source": [
    "# Versão da Linguagem Python\n",
    "from platform import python_version\n",
    "print('Versão da Linguagem Python Usada Neste Jupyter Notebook:', python_version())"
   ]
  },
  {
   "cell_type": "markdown",
   "metadata": {},
   "source": [
    "Foi escolhido o Datasets \"Caesarian Section Classification Dataset\" da UCI Marchine Learning Repository que disponibiliza dados coletados de grávidas com diferentes estados de saúde. Os seus metadados podem ser obtidos em https://archive.ics.uci.edu/ml/datasets/Caesarian+Section+Classification+Dataset#\n",
    "\n",
    "Este trabalho tem por objetivo comparar os classificadores Logistic Regression e KNN do scikit-learn utilizando duas formas de avaliação.\n",
    "\n",
    "Atributos:\n",
    "@attribute 'Age' { 22,26,28,27,32,36,33,23,20,29,25,37,24,18,30,40,31,19,21,35,17,38 }\n",
    "@attribute 'Delivery number' { 1,2,3,4 }\n",
    "@attribute 'Delivery time' { 0,1,2 } -> {0 = timely , 1 = premature , 2 = latecomer}\n",
    "@attribute 'Blood of Pressure' { 2,1,0 } -> {0 = low , 1 = normal , 2 = high }\n",
    "@attribute 'Heart Problem' { 1,0 } -> {0 = apt, 1 = inept }\n",
    "\n",
    "Rótulo:\n",
    "@attribute Caesarian { 0,1 } -> {0 = No, 1 = Yes }"
   ]
  },
  {
   "cell_type": "markdown",
   "metadata": {},
   "source": [
    "Carga do Dataset:"
   ]
  },
  {
   "cell_type": "code",
   "execution_count": 91,
   "metadata": {},
   "outputs": [
    {
     "data": {
      "text/plain": [
       "((80, 5), (80,), {'0', '1'})"
      ]
     },
     "execution_count": 91,
     "metadata": {},
     "output_type": "execute_result"
    }
   ],
   "source": [
    "import pandas as pd\n",
    "import urllib.request\n",
    "from scipy.io.arff import loadarff\n",
    "from io import StringIO\n",
    "\n",
    "url = 'https://archive.ics.uci.edu/ml/machine-learning-databases/00472/caesarian.csv.arff'\n",
    "resp = urllib.request.urlopen(url)\n",
    "data, meta = loadarff(StringIO(resp.read().decode('utf-8')))\n",
    "\n",
    "df = pd.DataFrame(data)\n",
    "\n",
    "for i in df.columns:\n",
    "    if df[i].dtype == 'object':\n",
    "        df[i] = df[i].str.decode('UTF-8')\n",
    "\n",
    "X, y = df.iloc[:, :5], df.iloc[:, -1]\n",
    "\n",
    "X.shape, y.shape, set(y)"
   ]
  },
  {
   "cell_type": "markdown",
   "metadata": {},
   "source": [
    "1° Avaliação: Classifica com todo o Dataset e calcula a acurácia."
   ]
  },
  {
   "cell_type": "code",
   "execution_count": 92,
   "metadata": {},
   "outputs": [
    {
     "name": "stdout",
     "output_type": "stream",
     "text": [
      "Acurácia:  0.775  -- Classificador KNeighborsClassifier()\n",
      "Acurácia:  0.75  -- Classificador LogisticRegression()\n"
     ]
    }
   ],
   "source": [
    "from sklearn.metrics import accuracy_score\n",
    "from sklearn.model_selection import cross_validate, RepeatedKFold\n",
    "from sklearn.neighbors import KNeighborsClassifier\n",
    "from sklearn.linear_model import LogisticRegression\n",
    "import numpy as np\n",
    "\n",
    "for classif in [KNeighborsClassifier, LogisticRegression]: \n",
    "    modelo = classif()\n",
    "    modelo.fit(X, y)\n",
    "    ypred = modelo.predict(X)\n",
    "    print(\"Acurácia: \", accuracy_score(y, ypred), \" -- Classificador\", classif())"
   ]
  },
  {
   "cell_type": "markdown",
   "metadata": {},
   "source": [
    "2° Avaliação: Divide o Dataset em treino e teste. \n",
    "\n",
    "Utiliza os dados de treino para ajustar o modelo e os dados de teste para calcular a acurácia. "
   ]
  },
  {
   "cell_type": "code",
   "execution_count": 93,
   "metadata": {},
   "outputs": [
    {
     "name": "stdout",
     "output_type": "stream",
     "text": [
      "Acurácia:  0.5555555555555556  -- Classificador KNeighborsClassifier()\n",
      "Acurácia:  0.6666666666666666  -- Classificador LogisticRegression()\n"
     ]
    }
   ],
   "source": [
    "from sklearn.model_selection import train_test_split\n",
    "\n",
    "X_treino, X_teste, y_treino, y_teste = train_test_split(X, y, test_size=0.33, random_state=42)\n",
    "\n",
    "for classif in [KNeighborsClassifier, LogisticRegression]:  \n",
    "    modelo = classif()\n",
    "    modelo.fit(X_treino, y_treino)\n",
    "    ypred = modelo.predict(X_teste)\n",
    "    print(\"Acurácia: \", accuracy_score(y_teste, ypred), \" -- Classificador\", classif())\n",
    "    "
   ]
  },
  {
   "cell_type": "markdown",
   "metadata": {},
   "source": [
    "3° Avaliação: Realiza a validação cruzada e calcula a média da acurácia do total de repetições. "
   ]
  },
  {
   "cell_type": "code",
   "execution_count": 94,
   "metadata": {},
   "outputs": [
    {
     "name": "stdout",
     "output_type": "stream",
     "text": [
      "Acurácia:  0.565  -- Classificador KNeighborsClassifier()\n",
      "Acurácia:  0.605  -- Classificador LogisticRegression()\n"
     ]
    }
   ],
   "source": [
    "from sklearn.metrics import make_scorer\n",
    "kfold = RepeatedKFold(random_state=42) # n_repeats: default=10 e n_splits: default=5\n",
    "\n",
    "for classif in [KNeighborsClassifier, LogisticRegression]: \n",
    "    scores = cross_validate(classif(), X, y, scoring=make_scorer(accuracy_score), cv=kfold)\n",
    "    print(\"Acurácia: \", np.mean(scores['test_score']), \" -- Classificador\", classif())\n"
   ]
  },
  {
   "cell_type": "markdown",
   "metadata": {},
   "source": [
    "4° Avaliação: Realiza a padronização dos dados antes da validação cruzada e calcula a média da acurácia do total de repetições."
   ]
  },
  {
   "cell_type": "code",
   "execution_count": 95,
   "metadata": {},
   "outputs": [
    {
     "name": "stdout",
     "output_type": "stream",
     "text": [
      "Acurácia:  0.665  -- Classificador KNeighborsClassifier()\n",
      "Acurácia:  0.62375  -- Classificador LogisticRegression()\n"
     ]
    }
   ],
   "source": [
    "from sklearn.preprocessing import StandardScaler\n",
    "\n",
    "scaler = StandardScaler()\n",
    "X_pad = scaler.fit_transform(X)\n",
    "\n",
    "for classif in [KNeighborsClassifier, LogisticRegression]: \n",
    "    scores = cross_validate(classif(), X_pad, y, scoring=make_scorer(accuracy_score), cv=kfold)\n",
    "    print(\"Acurácia: \", np.mean(scores['test_score']), \" -- Classificador\", classif())"
   ]
  },
  {
   "cell_type": "markdown",
   "metadata": {},
   "source": [
    "5° Avaliação: Realiza o autoajuste do modelo KNeighborsClassifier() determinando o melhor parâmetro e calcula a acurácia utilizando o Dataset com e sem padronização.   "
   ]
  },
  {
   "cell_type": "code",
   "execution_count": 96,
   "metadata": {},
   "outputs": [
    {
     "name": "stdout",
     "output_type": "stream",
     "text": [
      "Acurácia sem padronização: 0.7875 Parâmetro: KNeighborsClassifier(n_neighbors=3)\n",
      "Acurácia com padronização: 0.75 Parâmetro: KNeighborsClassifier(n_neighbors=7)\n"
     ]
    }
   ],
   "source": [
    "from sklearn.model_selection import GridSearchCV\n",
    "parametros = {'n_neighbors': [3,5,7]}\n",
    "\n",
    "modelo = GridSearchCV(KNeighborsClassifier(), parametros, scoring=make_scorer(accuracy_score))\n",
    "modelo.fit(X, y)\n",
    "ypred = modelo.predict(X)\n",
    "print(\"Acurácia sem padronização:\", accuracy_score(y, ypred), \"Parâmetro:\", modelo.best_estimator_)\n",
    "\n",
    "\n",
    "modelo.fit(X_pad, y)\n",
    "ypred = modelo.predict(X_pad)\n",
    "print(\"Acurácia com padronização:\", accuracy_score(y, ypred), \"Parâmetro:\", modelo.best_estimator_)\n"
   ]
  },
  {
   "cell_type": "markdown",
   "metadata": {},
   "source": [
    "6° Avaliação: Realiaza a validação cruzada do Pipeline com e sem o GridSearch e calcula a média da acurácia do total de repetições."
   ]
  },
  {
   "cell_type": "code",
   "execution_count": 97,
   "metadata": {},
   "outputs": [
    {
     "name": "stdout",
     "output_type": "stream",
     "text": [
      "Acurácia:  0.65875 GridSearch dentro do Pipeline\n",
      "Acurácia:  0.65 GridSearch fora do Pipeline\n"
     ]
    }
   ],
   "source": [
    "from sklearn.pipeline import Pipeline\n",
    "\n",
    "GridSearchCV(KNeighborsClassifier(), parametros, scoring=make_scorer(accuracy_score))\n",
    "parametros = {'n_neighbors': [3,5,7]}\n",
    "\n",
    "modelo1 = Pipeline([\n",
    "    (\"padronização\", StandardScaler()),\n",
    "    (\"gsknn\", GridSearchCV(KNeighborsClassifier(), parametros, scoring=make_scorer(accuracy_score)))\n",
    "])\n",
    "\n",
    "scores = cross_validate(modelo1, X, y, scoring=make_scorer(accuracy_score), cv=kfold)\n",
    "print(\"Acurácia: \", np.mean(scores['test_score']), \"GridSearch dentro do Pipeline\")\n",
    "\n",
    "pipeline = Pipeline([\n",
    "    (\"padronização\", StandardScaler()),\n",
    "    (\"knn\", KNeighborsClassifier())\n",
    "])\n",
    "\n",
    "parametros = {'knn__n_neighbors': [3,5,7]}\n",
    "modelo2 = GridSearchCV(pipeline, parametros, scoring=make_scorer(accuracy_score))\n",
    "scores = cross_validate(modelo2, X, y, scoring=make_scorer(accuracy_score), cv=kfold)\n",
    "print(\"Acurácia: \", np.mean(scores['test_score']), \"GridSearch fora do Pipeline\")\n",
    "\n",
    "\n",
    "\n"
   ]
  }
 ],
 "metadata": {
  "interpreter": {
   "hash": "815f65bdaabb4a34cfa79d14b7891c7753570952fa824e0421a678f5582bbfd3"
  },
  "kernelspec": {
   "display_name": "Python 3.8.10 ('.venv': venv)",
   "language": "python",
   "name": "python3"
  },
  "language_info": {
   "codemirror_mode": {
    "name": "ipython",
    "version": 3
   },
   "file_extension": ".py",
   "mimetype": "text/x-python",
   "name": "python",
   "nbconvert_exporter": "python",
   "pygments_lexer": "ipython3",
   "version": "3.8.10"
  },
  "orig_nbformat": 4
 },
 "nbformat": 4,
 "nbformat_minor": 2
}
