{
 "cells": [
  {
   "cell_type": "code",
   "execution_count": 1,
   "metadata": {},
   "outputs": [
    {
     "name": "stdout",
     "output_type": "stream",
     "text": [
      "[-1, 0, -1]\n",
      "[-1, 0, -1, 0]\n",
      "[-1, 0, -1, 0, 1]\n",
      "[-1, 0, -1, 0, 1, 4]\n",
      "[-1, 0, -1, 0, 1, 4, 9]\n",
      "[-1, 0, -1, 0, 1, 4, 9, 18]\n",
      "[-1, 0, -1, 0, 1, 4, 9, 18, 33]\n"
     ]
    }
   ],
   "source": [
    "x = lambda a, b: a + [a[-1] + a[-2] + b]\n",
    "y = [-1, 0]\n",
    "\n",
    "for i in range(7):\n",
    "    y = x(y, i)\n",
    "    print(y)"
   ]
  },
  {
   "cell_type": "code",
   "execution_count": 2,
   "metadata": {},
   "outputs": [
    {
     "data": {
      "text/plain": [
       "[-1, 0, -1]"
      ]
     },
     "execution_count": 2,
     "metadata": {},
     "output_type": "execute_result"
    }
   ],
   "source": [
    "l = [-1, 0] + [-1]\n",
    "l"
   ]
  }
 ],
 "metadata": {
  "kernelspec": {
   "display_name": "Python 3.8.10 64-bit",
   "language": "python",
   "name": "python3"
  },
  "language_info": {
   "codemirror_mode": {
    "name": "ipython",
    "version": 3
   },
   "file_extension": ".py",
   "mimetype": "text/x-python",
   "name": "python",
   "nbconvert_exporter": "python",
   "pygments_lexer": "ipython3",
   "version": "3.8.10"
  },
  "orig_nbformat": 4,
  "vscode": {
   "interpreter": {
    "hash": "916dbcbb3f70747c44a77c7bcd40155683ae19c65e1c03b4aa3499c5328201f1"
   }
  }
 },
 "nbformat": 4,
 "nbformat_minor": 2
}
