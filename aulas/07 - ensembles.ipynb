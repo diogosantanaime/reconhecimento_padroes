{
 "cells": [
  {
   "cell_type": "code",
   "execution_count": 19,
   "metadata": {},
   "outputs": [
    {
     "data": {
      "text/plain": [
       "((400, 4096), (400,))"
      ]
     },
     "execution_count": 19,
     "metadata": {},
     "output_type": "execute_result"
    }
   ],
   "source": [
    "from sklearn.datasets import fetch_olivetti_faces\n",
    "X, y = fetch_olivetti_faces(return_X_y=True)\n",
    "X.shape, y.shape"
   ]
  },
  {
   "cell_type": "code",
   "execution_count": 20,
   "metadata": {},
   "outputs": [
    {
     "data": {
      "text/plain": [
       "((300, 4096), (100, 4096), (300,), (100,))"
      ]
     },
     "execution_count": 20,
     "metadata": {},
     "output_type": "execute_result"
    }
   ],
   "source": [
    "from sklearn.model_selection import train_test_split\n",
    "X_tr, X_te, y_tr, y_te = train_test_split(X, y, random_state=42)\n",
    "X_tr.shape, X_te.shape, y_tr.shape, y_te.shape"
   ]
  },
  {
   "cell_type": "code",
   "execution_count": 21,
   "metadata": {},
   "outputs": [
    {
     "data": {
      "text/plain": [
       "(array([ True,  True,  True,  True,  True,  True,  True,  True,  True,\n",
       "         True,  True,  True,  True,  True,  True,  True, False,  True,\n",
       "         True,  True,  True,  True, False, False,  True, False,  True,\n",
       "         True,  True,  True, False, False,  True,  True, False,  True,\n",
       "        False, False,  True,  True,  True,  True,  True,  True,  True,\n",
       "        False,  True,  True,  True,  True,  True,  True,  True,  True,\n",
       "         True,  True,  True,  True,  True, False,  True,  True,  True,\n",
       "        False,  True, False,  True,  True, False,  True,  True,  True,\n",
       "        False,  True,  True,  True,  True,  True,  True,  True, False,\n",
       "         True,  True,  True,  True,  True,  True,  True,  True,  True,\n",
       "         True,  True,  True,  True,  True,  True,  True,  True,  True,\n",
       "        False]),\n",
       " 0.83)"
      ]
     },
     "execution_count": 21,
     "metadata": {},
     "output_type": "execute_result"
    }
   ],
   "source": [
    "from sklearn.neighbors import KNeighborsClassifier\n",
    "modelo = KNeighborsClassifier()\n",
    "modelo.fit(X_tr, y_tr)\n",
    "knn_pr = modelo.predict(X_te)\n",
    "knnhits = knn_pr == y_te\n",
    "knnhits, sum(knnhits)/len(knnhits)"
   ]
  },
  {
   "cell_type": "code",
   "execution_count": 22,
   "metadata": {},
   "outputs": [
    {
     "data": {
      "text/plain": [
       "(array([ True,  True,  True,  True,  True,  True,  True,  True,  True,\n",
       "        False,  True,  True,  True, False,  True, False,  True,  True,\n",
       "         True,  True, False,  True,  True,  True,  True,  True,  True,\n",
       "         True,  True, False,  True,  True,  True,  True,  True,  True,\n",
       "        False,  True,  True,  True,  True,  True, False,  True,  True,\n",
       "         True,  True,  True,  True, False,  True,  True,  True, False,\n",
       "         True,  True,  True,  True,  True,  True,  True,  True, False,\n",
       "        False,  True,  True,  True, False,  True, False,  True,  True,\n",
       "        False,  True,  True,  True,  True,  True, False,  True, False,\n",
       "         True,  True,  True,  True,  True,  True,  True, False,  True,\n",
       "         True,  True,  True,  True, False,  True,  True,  True,  True,\n",
       "        False]),\n",
       " 0.81)"
      ]
     },
     "execution_count": 22,
     "metadata": {},
     "output_type": "execute_result"
    }
   ],
   "source": [
    "from sklearn.naive_bayes import GaussianNB\n",
    "modelo = GaussianNB()\n",
    "modelo.fit(X_tr, y_tr)\n",
    "gnb_pr = modelo.predict(X_te)\n",
    "gnbhits = gnb_pr == y_te\n",
    "gnbhits, sum(gnbhits)/len(gnbhits)"
   ]
  },
  {
   "cell_type": "code",
   "execution_count": 23,
   "metadata": {},
   "outputs": [
    {
     "data": {
      "text/plain": [
       "(array([ True,  True,  True,  True,  True,  True,  True,  True,  True,\n",
       "        False,  True,  True, False,  True,  True, False, False,  True,\n",
       "         True,  True,  True,  True,  True, False,  True,  True,  True,\n",
       "         True,  True,  True,  True,  True,  True, False,  True,  True,\n",
       "         True,  True,  True,  True,  True, False,  True, False,  True,\n",
       "        False,  True,  True,  True,  True, False,  True,  True,  True,\n",
       "         True, False,  True,  True,  True,  True, False,  True,  True,\n",
       "        False,  True,  True,  True, False,  True,  True,  True,  True,\n",
       "        False, False,  True,  True,  True,  True, False,  True, False,\n",
       "         True, False,  True,  True,  True,  True,  True,  True,  True,\n",
       "         True,  True,  True, False,  True,  True, False,  True,  True,\n",
       "        False]),\n",
       " 0.78)"
      ]
     },
     "execution_count": 23,
     "metadata": {},
     "output_type": "execute_result"
    }
   ],
   "source": [
    "from sklearn.linear_model import Perceptron\n",
    "modelo = Perceptron()\n",
    "modelo.fit(X_tr, y_tr)\n",
    "per_pr = modelo.predict(X_te)\n",
    "perhits = per_pr == y_te\n",
    "perhits, sum(perhits)/len(perhits)"
   ]
  },
  {
   "cell_type": "code",
   "execution_count": 24,
   "metadata": {},
   "outputs": [
    {
     "data": {
      "text/plain": [
       "array([[ True,  True,  True],\n",
       "       [ True,  True,  True],\n",
       "       [ True,  True,  True],\n",
       "       [ True,  True,  True],\n",
       "       [ True,  True,  True],\n",
       "       [ True,  True,  True],\n",
       "       [ True,  True,  True],\n",
       "       [ True,  True,  True],\n",
       "       [ True,  True,  True],\n",
       "       [ True, False, False],\n",
       "       [ True,  True,  True],\n",
       "       [ True,  True,  True],\n",
       "       [ True,  True, False],\n",
       "       [ True, False,  True],\n",
       "       [ True,  True,  True],\n",
       "       [ True, False, False],\n",
       "       [False,  True, False],\n",
       "       [ True,  True,  True],\n",
       "       [ True,  True,  True],\n",
       "       [ True,  True,  True],\n",
       "       [ True, False,  True],\n",
       "       [ True,  True,  True],\n",
       "       [False,  True,  True],\n",
       "       [False,  True, False],\n",
       "       [ True,  True,  True],\n",
       "       [False,  True,  True],\n",
       "       [ True,  True,  True],\n",
       "       [ True,  True,  True],\n",
       "       [ True,  True,  True],\n",
       "       [ True, False,  True],\n",
       "       [False,  True,  True],\n",
       "       [False,  True,  True],\n",
       "       [ True,  True,  True],\n",
       "       [ True,  True, False],\n",
       "       [False,  True,  True],\n",
       "       [ True,  True,  True],\n",
       "       [False, False,  True],\n",
       "       [False,  True,  True],\n",
       "       [ True,  True,  True],\n",
       "       [ True,  True,  True],\n",
       "       [ True,  True,  True],\n",
       "       [ True,  True, False],\n",
       "       [ True, False,  True],\n",
       "       [ True,  True, False],\n",
       "       [ True,  True,  True],\n",
       "       [False,  True, False],\n",
       "       [ True,  True,  True],\n",
       "       [ True,  True,  True],\n",
       "       [ True,  True,  True],\n",
       "       [ True, False,  True],\n",
       "       [ True,  True, False],\n",
       "       [ True,  True,  True],\n",
       "       [ True,  True,  True],\n",
       "       [ True, False,  True],\n",
       "       [ True,  True,  True],\n",
       "       [ True,  True, False],\n",
       "       [ True,  True,  True],\n",
       "       [ True,  True,  True],\n",
       "       [ True,  True,  True],\n",
       "       [False,  True,  True],\n",
       "       [ True,  True, False],\n",
       "       [ True,  True,  True],\n",
       "       [ True, False,  True],\n",
       "       [False, False, False],\n",
       "       [ True,  True,  True],\n",
       "       [False,  True,  True],\n",
       "       [ True,  True,  True],\n",
       "       [ True, False, False],\n",
       "       [False,  True,  True],\n",
       "       [ True, False,  True],\n",
       "       [ True,  True,  True],\n",
       "       [ True,  True,  True],\n",
       "       [False, False, False],\n",
       "       [ True,  True, False],\n",
       "       [ True,  True,  True],\n",
       "       [ True,  True,  True],\n",
       "       [ True,  True,  True],\n",
       "       [ True,  True,  True],\n",
       "       [ True, False, False],\n",
       "       [ True,  True,  True],\n",
       "       [False, False, False],\n",
       "       [ True,  True,  True],\n",
       "       [ True,  True, False],\n",
       "       [ True,  True,  True],\n",
       "       [ True,  True,  True],\n",
       "       [ True,  True,  True],\n",
       "       [ True,  True,  True],\n",
       "       [ True,  True,  True],\n",
       "       [ True, False,  True],\n",
       "       [ True,  True,  True],\n",
       "       [ True,  True,  True],\n",
       "       [ True,  True,  True],\n",
       "       [ True,  True,  True],\n",
       "       [ True,  True, False],\n",
       "       [ True, False,  True],\n",
       "       [ True,  True,  True],\n",
       "       [ True,  True, False],\n",
       "       [ True,  True,  True],\n",
       "       [ True,  True,  True],\n",
       "       [False, False, False]])"
      ]
     },
     "execution_count": 24,
     "metadata": {},
     "output_type": "execute_result"
    }
   ],
   "source": [
    "import numpy as np\n",
    "hits = np.stack((knnhits, gnbhits, perhits))\n",
    "\n",
    "hits.T"
   ]
  },
  {
   "cell_type": "code",
   "execution_count": 25,
   "metadata": {},
   "outputs": [
    {
     "data": {
      "text/plain": [
       "array([[20, 20, 20],\n",
       "       [28, 28, 28],\n",
       "       [ 3,  3,  3],\n",
       "       [21, 21, 21],\n",
       "       [ 9,  9,  9],\n",
       "       [ 8,  8,  8],\n",
       "       [32, 32, 32],\n",
       "       [ 9,  9,  9],\n",
       "       [26, 26, 26],\n",
       "       [12, 16, 28],\n",
       "       [ 0,  0,  0],\n",
       "       [36, 36, 36],\n",
       "       [ 5,  5,  8],\n",
       "       [ 7, 15,  7],\n",
       "       [13, 13, 13],\n",
       "       [ 4, 34, 29],\n",
       "       [25, 27, 25],\n",
       "       [37, 37, 37],\n",
       "       [23, 23, 23],\n",
       "       [38, 38, 38],\n",
       "       [ 7, 15,  7],\n",
       "       [ 1,  1,  1],\n",
       "       [ 4, 39, 39],\n",
       "       [25, 27, 25],\n",
       "       [ 0,  0,  0],\n",
       "       [ 3, 39, 39],\n",
       "       [11, 11, 11],\n",
       "       [22, 22, 22],\n",
       "       [26, 26, 26],\n",
       "       [10, 15, 10],\n",
       "       [29, 39, 39],\n",
       "       [29, 19, 19],\n",
       "       [26, 26, 26],\n",
       "       [ 5,  5, 29],\n",
       "       [20, 23, 23],\n",
       "       [11, 11, 11],\n",
       "       [12, 39, 11],\n",
       "       [20, 34, 34],\n",
       "       [15, 15, 15],\n",
       "       [14, 14, 14],\n",
       "       [38, 38, 38],\n",
       "       [ 5,  5, 29],\n",
       "       [ 7,  9,  7],\n",
       "       [ 2,  2, 36],\n",
       "       [ 8,  8,  8],\n",
       "       [28, 38, 28],\n",
       "       [14, 14, 14],\n",
       "       [18, 18, 18],\n",
       "       [ 2,  2,  2],\n",
       "       [17, 39, 17],\n",
       "       [ 4,  4, 39],\n",
       "       [32, 32, 32],\n",
       "       [33, 33, 33],\n",
       "       [ 7,  9,  7],\n",
       "       [37, 37, 37],\n",
       "       [ 3,  3,  1],\n",
       "       [22, 22, 22],\n",
       "       [17, 17, 17],\n",
       "       [ 3,  3,  3],\n",
       "       [ 0, 15, 15],\n",
       "       [12, 12, 36],\n",
       "       [29, 29, 29],\n",
       "       [25, 16, 25],\n",
       "       [17, 35, 28],\n",
       "       [10, 10, 10],\n",
       "       [14,  3,  3],\n",
       "       [35, 35, 35],\n",
       "       [26, 12,  1],\n",
       "       [37, 39, 39],\n",
       "       [ 7,  9,  7],\n",
       "       [32, 32, 32],\n",
       "       [14, 14, 14],\n",
       "       [ 3, 35, 20],\n",
       "       [ 4,  4,  8],\n",
       "       [38, 38, 38],\n",
       "       [24, 24, 24],\n",
       "       [22, 22, 22],\n",
       "       [36, 36, 36],\n",
       "       [17,  9, 28],\n",
       "       [28, 28, 28],\n",
       "       [16, 16, 20],\n",
       "       [ 1,  1,  1],\n",
       "       [20, 20,  8],\n",
       "       [25, 25, 25],\n",
       "       [27, 27, 27],\n",
       "       [ 6,  6,  6],\n",
       "       [24, 24, 24],\n",
       "       [30, 30, 30],\n",
       "       [10, 15, 10],\n",
       "       [ 9,  9,  9],\n",
       "       [23, 23, 23],\n",
       "       [33, 33, 33],\n",
       "       [11, 11, 11],\n",
       "       [22, 22,  8],\n",
       "       [18, 25, 18],\n",
       "       [31, 31, 31],\n",
       "       [37, 37, 39],\n",
       "       [38, 38, 38],\n",
       "       [23, 23, 23],\n",
       "       [17,  9, 18]])"
      ]
     },
     "execution_count": 25,
     "metadata": {},
     "output_type": "execute_result"
    }
   ],
   "source": [
    "y_pr = np.stack((knn_pr, gnb_pr, per_pr))\n",
    "y_pr.T"
   ]
  },
  {
   "cell_type": "code",
   "execution_count": 26,
   "metadata": {},
   "outputs": [
    {
     "data": {
      "text/plain": [
       "(array([ True,  True,  True,  True,  True,  True,  True,  True,  True,\n",
       "         True,  True,  True,  True,  True,  True,  True, False,  True,\n",
       "         True,  True,  True,  True,  True, False,  True,  True,  True,\n",
       "         True,  True,  True,  True,  True,  True,  True,  True,  True,\n",
       "         True,  True,  True,  True,  True,  True,  True,  True,  True,\n",
       "        False,  True,  True,  True,  True,  True,  True,  True,  True,\n",
       "         True,  True,  True,  True,  True,  True,  True,  True,  True,\n",
       "        False,  True,  True,  True, False,  True,  True,  True,  True,\n",
       "        False,  True,  True,  True,  True,  True, False,  True, False,\n",
       "         True,  True,  True,  True,  True,  True,  True,  True,  True,\n",
       "         True,  True,  True,  True,  True,  True,  True,  True,  True,\n",
       "        False]),\n",
       " 0.91)"
      ]
     },
     "execution_count": 26,
     "metadata": {},
     "output_type": "execute_result"
    }
   ],
   "source": [
    "from scipy import stats\n",
    "y_pr = stats.mode(y_pr)[0][0]\n",
    "vohits = y_pr == y_te\n",
    "vohits, sum(vohits)/len(vohits)"
   ]
  },
  {
   "cell_type": "markdown",
   "metadata": {},
   "source": [
    "Combinação de classificadores"
   ]
  },
  {
   "cell_type": "code",
   "execution_count": 27,
   "metadata": {},
   "outputs": [
    {
     "data": {
      "text/plain": [
       "(array([ True,  True,  True,  True,  True,  True,  True,  True,  True,\n",
       "         True,  True,  True,  True,  True,  True,  True, False,  True,\n",
       "         True,  True,  True,  True,  True, False,  True,  True,  True,\n",
       "         True,  True,  True,  True,  True,  True,  True,  True,  True,\n",
       "         True,  True,  True,  True,  True,  True,  True,  True,  True,\n",
       "        False,  True,  True,  True,  True,  True,  True,  True,  True,\n",
       "         True,  True,  True,  True,  True,  True,  True,  True,  True,\n",
       "        False,  True,  True,  True, False,  True,  True,  True,  True,\n",
       "        False,  True,  True,  True,  True,  True, False,  True, False,\n",
       "         True,  True,  True,  True,  True,  True,  True,  True,  True,\n",
       "         True,  True,  True,  True,  True,  True,  True,  True,  True,\n",
       "        False]),\n",
       " 0.91)"
      ]
     },
     "execution_count": 27,
     "metadata": {},
     "output_type": "execute_result"
    }
   ],
   "source": [
    "from sklearn.ensemble import VotingClassifier\n",
    "modelo = VotingClassifier([\n",
    "    ('knn', KNeighborsClassifier()),\n",
    "    ('naivebayes', GaussianNB()),\n",
    "    ('perceptron', Perceptron())\n",
    "])\n",
    "modelo.fit(X_tr, y_tr)\n",
    "vo_pr = modelo.predict(X_te)\n",
    "vohits = vo_pr == y_te\n",
    "vohits, sum(vohits)/len(vohits)"
   ]
  },
  {
   "cell_type": "code",
   "execution_count": 28,
   "metadata": {},
   "outputs": [
    {
     "data": {
      "text/plain": [
       "(array([ True,  True,  True,  True,  True,  True,  True,  True,  True,\n",
       "         True,  True,  True,  True,  True,  True,  True, False,  True,\n",
       "         True,  True,  True,  True, False,  True,  True, False,  True,\n",
       "         True,  True,  True, False, False,  True,  True,  True,  True,\n",
       "        False, False, False,  True,  True,  True,  True,  True,  True,\n",
       "        False,  True,  True,  True,  True,  True,  True,  True,  True,\n",
       "         True,  True,  True,  True,  True,  True,  True,  True,  True,\n",
       "        False,  True, False,  True,  True, False,  True,  True,  True,\n",
       "        False,  True,  True,  True,  True,  True,  True,  True, False,\n",
       "         True,  True,  True,  True,  True,  True,  True,  True,  True,\n",
       "         True,  True,  True, False,  True,  True,  True,  True,  True,\n",
       "        False]),\n",
       " 0.84)"
      ]
     },
     "execution_count": 28,
     "metadata": {},
     "output_type": "execute_result"
    }
   ],
   "source": [
    "from sklearn.ensemble import VotingClassifier\n",
    "modelo = VotingClassifier([\n",
    "    ('knn1', KNeighborsClassifier(1)),\n",
    "    ('knn2', KNeighborsClassifier(5)),\n",
    "    ('knn3', KNeighborsClassifier(9)),\n",
    "])\n",
    "modelo.fit(X_tr, y_tr)\n",
    "vo_pr = modelo.predict(X_te)\n",
    "vohits = vo_pr == y_te\n",
    "vohits, sum(vohits)/len(vohits)"
   ]
  },
  {
   "cell_type": "code",
   "execution_count": 29,
   "metadata": {},
   "outputs": [
    {
     "data": {
      "text/plain": [
       "(array([ True,  True,  True,  True,  True,  True,  True,  True,  True,\n",
       "        False,  True,  True,  True,  True,  True, False, False,  True,\n",
       "         True,  True,  True,  True, False, False,  True, False,  True,\n",
       "         True,  True,  True,  True,  True,  True,  True, False,  True,\n",
       "        False, False,  True,  True,  True,  True,  True,  True,  True,\n",
       "        False,  True,  True,  True,  True,  True,  True,  True,  True,\n",
       "         True,  True,  True,  True,  True,  True,  True,  True, False,\n",
       "        False,  True,  True,  True, False, False,  True,  True,  True,\n",
       "        False,  True,  True,  True,  True,  True, False,  True, False,\n",
       "         True,  True,  True,  True,  True,  True,  True, False,  True,\n",
       "         True,  True,  True,  True,  True,  True,  True,  True,  True,\n",
       "        False]),\n",
       " 0.81)"
      ]
     },
     "execution_count": 29,
     "metadata": {},
     "output_type": "execute_result"
    }
   ],
   "source": [
    "from sklearn.tree import DecisionTreeClassifier\n",
    "modelo = VotingClassifier([\n",
    "    ('knn', KNeighborsClassifier()),\n",
    "    ('naivebayes', GaussianNB()),\n",
    "    ('arvore', DecisionTreeClassifier())\n",
    "])\n",
    "modelo.fit(X_tr, y_tr)\n",
    "vo_pr = modelo.predict(X_te)\n",
    "vohits = vo_pr == y_te\n",
    "vohits, sum(vohits)/len(vohits)"
   ]
  },
  {
   "cell_type": "code",
   "execution_count": 31,
   "metadata": {},
   "outputs": [
    {
     "data": {
      "text/plain": [
       "(array([False,  True, False,  True,  True, False,  True,  True,  True,\n",
       "        False, False,  True,  True, False, False, False, False, False,\n",
       "         True, False,  True, False, False, False, False, False, False,\n",
       "        False,  True, False, False,  True, False, False, False, False,\n",
       "        False, False,  True, False, False,  True, False, False,  True,\n",
       "        False, False,  True, False,  True, False,  True,  True, False,\n",
       "         True, False, False, False,  True,  True,  True,  True, False,\n",
       "        False, False,  True,  True, False, False, False,  True, False,\n",
       "        False, False,  True,  True, False, False, False,  True, False,\n",
       "        False, False,  True, False,  True,  True, False, False,  True,\n",
       "         True,  True,  True,  True,  True, False, False,  True, False,\n",
       "        False]),\n",
       " 0.4)"
      ]
     },
     "execution_count": 31,
     "metadata": {},
     "output_type": "execute_result"
    }
   ],
   "source": [
    "modelo = DecisionTreeClassifier(random_state=42)\n",
    "modelo.fit(X_tr, y_tr)\n",
    "dt_pr = modelo.predict(X_te)\n",
    "dthits = dt_pr == y_te\n",
    "dthits, sum(dthits)/len(dthits)"
   ]
  },
  {
   "cell_type": "markdown",
   "metadata": {},
   "source": [
    "Diversificação por reamostragem"
   ]
  },
  {
   "cell_type": "code",
   "execution_count": 32,
   "metadata": {},
   "outputs": [
    {
     "data": {
      "text/plain": [
       "(array([ True,  True,  True,  True,  True,  True,  True,  True, False,\n",
       "        False, False,  True,  True, False,  True, False, False,  True,\n",
       "         True,  True, False,  True, False, False,  True, False,  True,\n",
       "         True,  True,  True, False,  True,  True,  True, False, False,\n",
       "        False,  True, False, False, False,  True, False,  True, False,\n",
       "         True,  True,  True,  True, False, False,  True,  True, False,\n",
       "         True, False, False, False,  True,  True,  True,  True, False,\n",
       "        False,  True, False,  True, False,  True,  True, False,  True,\n",
       "         True,  True,  True,  True,  True,  True,  True,  True, False,\n",
       "        False,  True,  True, False,  True,  True,  True,  True,  True,\n",
       "        False,  True,  True,  True,  True,  True,  True, False,  True,\n",
       "        False]),\n",
       " 0.64)"
      ]
     },
     "execution_count": 32,
     "metadata": {},
     "output_type": "execute_result"
    }
   ],
   "source": [
    "from sklearn.ensemble import BaggingClassifier\n",
    "modelo = BaggingClassifier(random_state=42)\n",
    "modelo.fit(X_tr, y_tr)\n",
    "bag_pr = modelo.predict(X_te)\n",
    "baghits = bag_pr == y_te\n",
    "baghits, sum(baghits)/len(baghits)"
   ]
  },
  {
   "cell_type": "code",
   "execution_count": 33,
   "metadata": {},
   "outputs": [
    {
     "data": {
      "text/plain": [
       "(array([ True,  True,  True,  True,  True,  True,  True,  True, False,\n",
       "        False, False,  True,  True, False,  True, False, False,  True,\n",
       "         True,  True, False,  True, False, False,  True, False,  True,\n",
       "         True,  True,  True, False,  True,  True,  True, False, False,\n",
       "        False,  True, False, False, False,  True, False,  True, False,\n",
       "         True,  True,  True,  True, False, False,  True,  True, False,\n",
       "         True, False, False, False,  True,  True,  True,  True, False,\n",
       "        False,  True, False,  True, False,  True,  True, False,  True,\n",
       "         True,  True,  True,  True,  True,  True,  True,  True, False,\n",
       "        False,  True,  True, False,  True,  True,  True,  True,  True,\n",
       "        False,  True,  True,  True,  True,  True,  True, False,  True,\n",
       "        False]),\n",
       " 0.64)"
      ]
     },
     "execution_count": 33,
     "metadata": {},
     "output_type": "execute_result"
    }
   ],
   "source": [
    "modelo = BaggingClassifier(DecisionTreeClassifier(), random_state=42)\n",
    "modelo.fit(X_tr, y_tr)\n",
    "bag_pr = modelo.predict(X_te)\n",
    "baghits = bag_pr == y_te\n",
    "baghits, sum(baghits)/len(baghits)"
   ]
  },
  {
   "cell_type": "markdown",
   "metadata": {},
   "source": [
    "Aumentando a aleatoriedade para aumentar a diversidade"
   ]
  },
  {
   "cell_type": "code",
   "execution_count": 34,
   "metadata": {},
   "outputs": [
    {
     "data": {
      "text/plain": [
       "(array([ True,  True,  True,  True,  True, False,  True,  True,  True,\n",
       "         True, False,  True,  True,  True,  True, False, False,  True,\n",
       "         True,  True,  True, False,  True, False,  True,  True, False,\n",
       "         True,  True,  True,  True,  True,  True,  True,  True,  True,\n",
       "        False,  True, False,  True, False,  True, False,  True,  True,\n",
       "        False,  True,  True, False,  True, False,  True,  True, False,\n",
       "         True, False, False,  True, False,  True,  True,  True, False,\n",
       "        False,  True, False,  True,  True, False, False,  True,  True,\n",
       "        False,  True,  True,  True,  True,  True,  True,  True, False,\n",
       "        False,  True,  True,  True,  True,  True,  True,  True, False,\n",
       "         True,  True, False,  True,  True,  True,  True,  True,  True,\n",
       "         True]),\n",
       " 0.72)"
      ]
     },
     "execution_count": 34,
     "metadata": {},
     "output_type": "execute_result"
    }
   ],
   "source": [
    "modelo = BaggingClassifier(DecisionTreeClassifier(splitter='random'), random_state=42)\n",
    "modelo.fit(X_tr, y_tr)\n",
    "bag_pr = modelo.predict(X_te)\n",
    "baghits = bag_pr == y_te\n",
    "baghits, sum(baghits)/len(baghits)"
   ]
  },
  {
   "cell_type": "code",
   "execution_count": 35,
   "metadata": {},
   "outputs": [
    {
     "data": {
      "text/plain": [
       "(array([ True,  True,  True,  True,  True,  True,  True,  True,  True,\n",
       "         True,  True,  True,  True,  True,  True,  True, False,  True,\n",
       "         True,  True,  True,  True,  True, False,  True,  True,  True,\n",
       "         True,  True,  True,  True,  True,  True,  True,  True,  True,\n",
       "         True,  True,  True,  True, False,  True, False,  True,  True,\n",
       "         True,  True,  True,  True,  True,  True,  True,  True, False,\n",
       "         True,  True, False,  True,  True,  True,  True,  True, False,\n",
       "        False,  True,  True,  True,  True, False,  True,  True,  True,\n",
       "         True,  True,  True,  True,  True,  True,  True,  True, False,\n",
       "         True,  True,  True,  True,  True,  True,  True,  True,  True,\n",
       "         True,  True,  True,  True,  True,  True,  True,  True,  True,\n",
       "        False]),\n",
       " 0.89)"
      ]
     },
     "execution_count": 35,
     "metadata": {},
     "output_type": "execute_result"
    }
   ],
   "source": [
    "modelo = BaggingClassifier(DecisionTreeClassifier(splitter='random'), n_estimators=100, random_state=42)\n",
    "modelo.fit(X_tr, y_tr)\n",
    "bag_pr = modelo.predict(X_te)\n",
    "baghits = bag_pr == y_te\n",
    "baghits, sum(baghits)/len(baghits)"
   ]
  },
  {
   "cell_type": "markdown",
   "metadata": {},
   "source": [
    "Random Forest é um Bagging de Árvores de Decisão"
   ]
  },
  {
   "cell_type": "code",
   "execution_count": 36,
   "metadata": {},
   "outputs": [
    {
     "data": {
      "text/plain": [
       "(array([ True,  True,  True,  True,  True,  True,  True,  True,  True,\n",
       "         True,  True,  True,  True,  True,  True,  True, False,  True,\n",
       "         True,  True,  True,  True,  True,  True,  True,  True,  True,\n",
       "         True,  True,  True,  True,  True,  True,  True,  True,  True,\n",
       "        False,  True,  True,  True, False,  True, False,  True,  True,\n",
       "         True,  True,  True,  True,  True, False,  True,  True, False,\n",
       "         True,  True,  True,  True,  True,  True,  True,  True, False,\n",
       "        False,  True,  True,  True,  True, False, False,  True,  True,\n",
       "        False,  True,  True,  True,  True,  True,  True,  True, False,\n",
       "         True,  True,  True,  True,  True,  True,  True,  True,  True,\n",
       "         True,  True,  True,  True,  True,  True,  True,  True,  True,\n",
       "         True]),\n",
       " 0.88)"
      ]
     },
     "execution_count": 36,
     "metadata": {},
     "output_type": "execute_result"
    }
   ],
   "source": [
    "from sklearn.ensemble import RandomForestClassifier\n",
    "modelo = RandomForestClassifier(random_state=42)\n",
    "modelo.fit(X_tr, y_tr)\n",
    "rf_pr = modelo.predict(X_te)\n",
    "rfhits = rf_pr == y_te\n",
    "rfhits, sum(rfhits)/len(rfhits)"
   ]
  },
  {
   "cell_type": "markdown",
   "metadata": {},
   "source": [
    "Regularização do Bagging"
   ]
  },
  {
   "cell_type": "code",
   "execution_count": 37,
   "metadata": {},
   "outputs": [
    {
     "data": {
      "text/plain": [
       "(array([ True,  True,  True,  True,  True,  True,  True,  True,  True,\n",
       "         True,  True,  True,  True,  True,  True,  True, False,  True,\n",
       "         True,  True,  True,  True,  True,  True,  True,  True,  True,\n",
       "         True,  True,  True,  True,  True,  True,  True,  True,  True,\n",
       "         True,  True,  True,  True, False,  True,  True,  True,  True,\n",
       "         True,  True,  True,  True,  True,  True,  True,  True,  True,\n",
       "         True,  True, False,  True,  True,  True,  True,  True, False,\n",
       "        False,  True,  True,  True,  True,  True,  True,  True,  True,\n",
       "         True,  True,  True,  True,  True,  True,  True,  True, False,\n",
       "         True,  True,  True,  True,  True,  True,  True,  True,  True,\n",
       "         True,  True,  True,  True,  True,  True,  True,  True,  True,\n",
       "         True]),\n",
       " 0.94)"
      ]
     },
     "execution_count": 37,
     "metadata": {},
     "output_type": "execute_result"
    }
   ],
   "source": [
    "modelo = BaggingClassifier(DecisionTreeClassifier(splitter='random'), n_estimators=100, max_features=0.15, random_state=42)\n",
    "modelo.fit(X_tr, y_tr)\n",
    "bag_pr = modelo.predict(X_te)\n",
    "baghits = bag_pr == y_te\n",
    "baghits, sum(baghits)/len(baghits)"
   ]
  },
  {
   "cell_type": "markdown",
   "metadata": {},
   "source": [
    "Florestas extremamente aleatórias"
   ]
  },
  {
   "cell_type": "code",
   "execution_count": 38,
   "metadata": {},
   "outputs": [
    {
     "data": {
      "text/plain": [
       "(array([ True,  True,  True,  True,  True,  True,  True,  True,  True,\n",
       "         True,  True,  True,  True,  True,  True,  True,  True,  True,\n",
       "         True,  True,  True,  True,  True,  True,  True,  True,  True,\n",
       "         True,  True,  True,  True,  True,  True,  True,  True,  True,\n",
       "         True, False,  True,  True,  True,  True,  True,  True,  True,\n",
       "         True,  True,  True,  True,  True,  True,  True,  True,  True,\n",
       "         True, False,  True,  True,  True,  True,  True,  True, False,\n",
       "        False,  True,  True,  True,  True,  True,  True,  True,  True,\n",
       "         True,  True,  True,  True,  True,  True,  True,  True, False,\n",
       "         True,  True,  True,  True,  True,  True,  True,  True,  True,\n",
       "         True,  True,  True,  True,  True,  True,  True,  True,  True,\n",
       "         True]),\n",
       " 0.95)"
      ]
     },
     "execution_count": 38,
     "metadata": {},
     "output_type": "execute_result"
    }
   ],
   "source": [
    "from sklearn.ensemble import ExtraTreesClassifier\n",
    "modelo = ExtraTreesClassifier(random_state=42)\n",
    "modelo.fit(X_tr, y_tr)\n",
    "et_pr = modelo.predict(X_te)\n",
    "ethits = et_pr == y_te\n",
    "ethits, sum(ethits)/len(ethits)"
   ]
  },
  {
   "cell_type": "markdown",
   "metadata": {},
   "source": [
    "Boosting"
   ]
  },
  {
   "cell_type": "code",
   "execution_count": 61,
   "metadata": {},
   "outputs": [
    {
     "data": {
      "text/plain": [
       "(array([ True,  True,  True,  True,  True,  True,  True,  True,  True,\n",
       "         True,  True,  True,  True,  True,  True,  True,  True,  True,\n",
       "         True,  True,  True,  True,  True,  True,  True,  True,  True,\n",
       "         True,  True,  True,  True,  True,  True,  True,  True,  True,\n",
       "        False,  True,  True,  True, False,  True,  True,  True,  True,\n",
       "         True,  True,  True,  True,  True, False,  True,  True,  True,\n",
       "         True,  True, False,  True,  True,  True,  True,  True, False,\n",
       "        False,  True,  True,  True,  True,  True, False,  True,  True,\n",
       "         True,  True,  True,  True,  True,  True,  True,  True, False,\n",
       "         True,  True,  True,  True,  True,  True,  True,  True, False,\n",
       "         True,  True,  True,  True,  True,  True,  True,  True,  True,\n",
       "         True]),\n",
       " 0.91)"
      ]
     },
     "execution_count": 61,
     "metadata": {},
     "output_type": "execute_result"
    }
   ],
   "source": [
    "from sklearn.ensemble import AdaBoostClassifier \n",
    "#sensivel aos hiperparâmetros, ideal é utilizar junto com o gridsearch para selecionar os melhores parm\n",
    "#modelo = AdaBoostClassifier(random_state=42)\n",
    "#modelo = AdaBoostClassifier(GaussianNB(), random_state=42)\n",
    "modelo = AdaBoostClassifier(DecisionTreeClassifier(splitter='random', max_depth=25), learning_rate=0.15, random_state=42)\n",
    "modelo.fit(X_tr, y_tr)\n",
    "ab_pr = modelo.predict(X_te)\n",
    "abhits = ab_pr == y_te\n",
    "abhits, sum(abhits)/len(abhits)"
   ]
  },
  {
   "cell_type": "code",
   "execution_count": 54,
   "metadata": {},
   "outputs": [
    {
     "data": {
      "text/plain": [
       "(array([ True,  True,  True,  True,  True,  True,  True,  True,  True,\n",
       "         True,  True,  True,  True,  True,  True,  True,  True,  True,\n",
       "         True,  True,  True,  True,  True,  True,  True,  True,  True,\n",
       "         True,  True,  True,  True,  True,  True,  True,  True,  True,\n",
       "        False,  True,  True,  True, False,  True,  True,  True,  True,\n",
       "         True,  True,  True,  True,  True, False,  True,  True,  True,\n",
       "         True,  True, False,  True,  True,  True,  True,  True, False,\n",
       "        False,  True,  True,  True,  True,  True, False,  True,  True,\n",
       "         True,  True,  True,  True,  True,  True,  True,  True, False,\n",
       "         True,  True,  True,  True,  True,  True,  True,  True, False,\n",
       "         True,  True,  True,  True,  True,  True,  True,  True,  True,\n",
       "         True]),\n",
       " 0.91)"
      ]
     },
     "execution_count": 54,
     "metadata": {},
     "output_type": "execute_result"
    }
   ],
   "source": [
    "from sklearn.ensemble import AdaBoostClassifier\n",
    "modelo = AdaBoostClassifier(DecisionTreeClassifier(max_depth=25, splitter='random'), learning_rate=0.15, random_state=42)\n",
    "modelo.fit(X_tr, y_tr)\n",
    "ab_pr = modelo.predict(X_te)\n",
    "abhits = ab_pr == y_te\n",
    "abhits, sum(abhits)/len(abhits)"
   ]
  },
  {
   "cell_type": "code",
   "execution_count": 62,
   "metadata": {},
   "outputs": [
    {
     "ename": "ModuleNotFoundError",
     "evalue": "No module named 'xgboost'",
     "output_type": "error",
     "traceback": [
      "\u001b[0;31m---------------------------------------------------------------------------\u001b[0m",
      "\u001b[0;31mModuleNotFoundError\u001b[0m                       Traceback (most recent call last)",
      "\u001b[1;32m/mnt/d/projetos/mestrado_ifes/reconhecimento_padroes/aulas/07 - ensembles.ipynb Cell 29'\u001b[0m in \u001b[0;36m<cell line: 1>\u001b[0;34m()\u001b[0m\n\u001b[0;32m----> <a href='vscode-notebook-cell://wsl%2Bubuntu/mnt/d/projetos/mestrado_ifes/reconhecimento_padroes/aulas/07%20-%20ensembles.ipynb#ch0000028vscode-remote?line=0'>1</a>\u001b[0m \u001b[39mimport\u001b[39;00m \u001b[39mxgboost\u001b[39;00m \u001b[39mas\u001b[39;00m \u001b[39mxgb\u001b[39;00m\n\u001b[1;32m      <a href='vscode-notebook-cell://wsl%2Bubuntu/mnt/d/projetos/mestrado_ifes/reconhecimento_padroes/aulas/07%20-%20ensembles.ipynb#ch0000028vscode-remote?line=2'>3</a>\u001b[0m modelo \u001b[39m=\u001b[39m XGBClassifier(use_label_encoder\u001b[39m=\u001b[39m\u001b[39mFalse\u001b[39;00m, random_state\u001b[39m=\u001b[39m\u001b[39m42\u001b[39m)\n\u001b[1;32m      <a href='vscode-notebook-cell://wsl%2Bubuntu/mnt/d/projetos/mestrado_ifes/reconhecimento_padroes/aulas/07%20-%20ensembles.ipynb#ch0000028vscode-remote?line=3'>4</a>\u001b[0m modelo\u001b[39m.\u001b[39mfit(X_tr, y_tr)\n",
      "\u001b[0;31mModuleNotFoundError\u001b[0m: No module named 'xgboost'"
     ]
    }
   ],
   "source": [
    "import xgboost as xgb\n",
    "\n",
    "modelo = XGBClassifier(use_label_encoder=False, random_state=42)\n",
    "modelo.fit(X_tr, y_tr)\n",
    "xgb_pr = modelo.predict(X_te)\n",
    "xgbhits = xgb_pr == y_te\n",
    "xgbhits, sum(xgbhits)/len(xgbhits)"
   ]
  },
  {
   "cell_type": "code",
   "execution_count": 57,
   "metadata": {},
   "outputs": [
    {
     "ename": "ModuleNotFoundError",
     "evalue": "No module named 'xgboost'",
     "output_type": "error",
     "traceback": [
      "\u001b[0;31m---------------------------------------------------------------------------\u001b[0m",
      "\u001b[0;31mModuleNotFoundError\u001b[0m                       Traceback (most recent call last)",
      "\u001b[1;32m/mnt/d/projetos/mestrado_ifes/reconhecimento_padroes/aulas/07 - ensembles.ipynb Cell 30'\u001b[0m in \u001b[0;36m<cell line: 1>\u001b[0;34m()\u001b[0m\n\u001b[0;32m----> <a href='vscode-notebook-cell://wsl%2Bubuntu/mnt/d/projetos/mestrado_ifes/reconhecimento_padroes/aulas/07%20-%20ensembles.ipynb#ch0000029vscode-remote?line=0'>1</a>\u001b[0m \u001b[39mfrom\u001b[39;00m \u001b[39mxgboost\u001b[39;00m \u001b[39mimport\u001b[39;00m XGBClassifier\n\u001b[1;32m      <a href='vscode-notebook-cell://wsl%2Bubuntu/mnt/d/projetos/mestrado_ifes/reconhecimento_padroes/aulas/07%20-%20ensembles.ipynb#ch0000029vscode-remote?line=1'>2</a>\u001b[0m modelo \u001b[39m=\u001b[39m XGBClassifier(colsample_bynode\u001b[39m=\u001b[39m\u001b[39m0.01\u001b[39m, learning_rate\u001b[39m=\u001b[39m\u001b[39m0.15\u001b[39m, random_state\u001b[39m=\u001b[39m\u001b[39m42\u001b[39m)\n\u001b[1;32m      <a href='vscode-notebook-cell://wsl%2Bubuntu/mnt/d/projetos/mestrado_ifes/reconhecimento_padroes/aulas/07%20-%20ensembles.ipynb#ch0000029vscode-remote?line=2'>3</a>\u001b[0m modelo\u001b[39m.\u001b[39mfit(X_tr, y_tr)\n",
      "\u001b[0;31mModuleNotFoundError\u001b[0m: No module named 'xgboost'"
     ]
    }
   ],
   "source": [
    "from xgboost import XGBClassifier\n",
    "modelo = XGBClassifier(colsample_bynode=0.01, learning_rate=0.15, random_state=42)\n",
    "modelo.fit(X_tr, y_tr)\n",
    "xgb_pr = modelo.predict(X_te)\n",
    "xgbhits = xgb_pr == y_te\n",
    "xgbhits, sum(xgbhits)/len(xgbhits)"
   ]
  },
  {
   "cell_type": "code",
   "execution_count": 58,
   "metadata": {},
   "outputs": [],
   "source": [
    "import warnings\n",
    "warnings.filterwarnings('ignore')"
   ]
  },
  {
   "cell_type": "code",
   "execution_count": 59,
   "metadata": {},
   "outputs": [
    {
     "data": {
      "text/plain": [
       "(array([ True,  True,  True,  True,  True,  True,  True,  True,  True,\n",
       "         True,  True,  True,  True,  True,  True,  True,  True,  True,\n",
       "         True,  True,  True,  True,  True,  True,  True,  True,  True,\n",
       "         True,  True,  True, False,  True,  True,  True,  True,  True,\n",
       "         True,  True,  True,  True,  True,  True,  True,  True,  True,\n",
       "         True,  True,  True,  True,  True,  True,  True,  True,  True,\n",
       "         True,  True,  True,  True,  True,  True,  True,  True,  True,\n",
       "        False,  True,  True,  True,  True, False,  True,  True,  True,\n",
       "        False,  True,  True,  True,  True,  True,  True,  True, False,\n",
       "         True,  True,  True,  True,  True,  True,  True,  True,  True,\n",
       "         True,  True,  True,  True,  True,  True,  True,  True,  True,\n",
       "         True]),\n",
       " 0.95)"
      ]
     },
     "execution_count": 59,
     "metadata": {},
     "output_type": "execute_result"
    }
   ],
   "source": [
    "from sklearn.ensemble import StackingClassifier\n",
    "\n",
    "voting = VotingClassifier([\n",
    "        ('knn', KNeighborsClassifier()),\n",
    "        ('naivebayes', GaussianNB()),\n",
    "        ('perceptron', Perceptron())\n",
    "    ])\n",
    "\n",
    "modelo = StackingClassifier([\n",
    "    ('voting', voting),\n",
    "    ('extratrees', ExtraTreesClassifier(random_state=42)),\n",
    "    ('randomforest', RandomForestClassifier(random_state=42))\n",
    "], cv=3, passthrough=True)\n",
    "\n",
    "modelo.fit(X_tr, y_tr) \n",
    "sc_pr = modelo.predict(X_te)\n",
    "schits = sc_pr == y_te\n",
    "schits, sum(schits)/len(schits)\n"
   ]
  },
  {
   "cell_type": "code",
   "execution_count": 60,
   "metadata": {},
   "outputs": [
    {
     "data": {
      "text/plain": [
       "(array([ True,  True,  True,  True,  True,  True,  True,  True,  True,\n",
       "         True,  True,  True,  True,  True,  True,  True,  True,  True,\n",
       "         True,  True,  True,  True,  True,  True,  True,  True,  True,\n",
       "         True,  True,  True, False,  True,  True,  True,  True,  True,\n",
       "         True,  True,  True,  True,  True,  True,  True,  True,  True,\n",
       "         True,  True,  True,  True,  True,  True,  True,  True,  True,\n",
       "         True,  True,  True,  True,  True,  True,  True,  True,  True,\n",
       "        False,  True,  True,  True,  True, False,  True,  True,  True,\n",
       "        False,  True,  True,  True,  True,  True,  True,  True, False,\n",
       "         True,  True,  True,  True,  True,  True,  True,  True,  True,\n",
       "         True,  True,  True,  True,  True,  True,  True,  True,  True,\n",
       "         True]),\n",
       " 0.95)"
      ]
     },
     "execution_count": 60,
     "metadata": {},
     "output_type": "execute_result"
    }
   ],
   "source": [
    "modelo = StackingClassifier([\n",
    "    ('randomforest42', RandomForestClassifier(random_state=42)),\n",
    "    ('randomforest43', RandomForestClassifier(random_state=43)),\n",
    "    ('randomforest44', RandomForestClassifier(random_state=44))\n",
    "], cv=3, passthrough=True)\n",
    "\n",
    "modelo.fit(X_tr, y_tr) \n",
    "sc_pr = modelo.predict(X_te)\n",
    "schits = sc_pr == y_te\n",
    "schits, sum(schits)/len(schits)"
   ]
  },
  {
   "cell_type": "code",
   "execution_count": 69,
   "metadata": {},
   "outputs": [
    {
     "data": {
      "text/plain": [
       "(array([ True,  True,  True,  True,  True,  True,  True,  True,  True,\n",
       "         True,  True,  True,  True,  True,  True,  True,  True,  True,\n",
       "         True,  True,  True,  True,  True,  True,  True,  True,  True,\n",
       "         True,  True,  True, False,  True,  True,  True,  True,  True,\n",
       "         True,  True,  True,  True,  True,  True,  True,  True,  True,\n",
       "         True,  True,  True,  True,  True,  True,  True,  True,  True,\n",
       "         True,  True,  True,  True,  True,  True,  True,  True,  True,\n",
       "        False,  True,  True,  True,  True, False,  True,  True,  True,\n",
       "        False,  True,  True,  True,  True,  True,  True,  True, False,\n",
       "         True,  True,  True,  True,  True,  True,  True,  True,  True,\n",
       "         True,  True,  True,  True,  True,  True,  True,  True,  True,\n",
       "         True]),\n",
       " 0.95)"
      ]
     },
     "execution_count": 69,
     "metadata": {},
     "output_type": "execute_result"
    }
   ],
   "source": [
    "from sklearn.ensemble import StackingClassifier\n",
    "\n",
    "stackclf = StackingClassifier([\n",
    "    ('xt', ExtraTreesClassifier()),\n",
    "    ('rf', RandomForestClassifier()),\n",
    "    ('knn', KNeighborsClassifier())\n",
    "], cv=3, passthrough=True)\n",
    "\n",
    "stackclf.fit(X_tr, y_tr) \n",
    "sc_pr = stackclf.predict(X_te)\n",
    "schits = sc_pr == y_te\n",
    "schits, sum(schits)/len(schits)\n"
   ]
  },
  {
   "cell_type": "code",
   "execution_count": 70,
   "metadata": {},
   "outputs": [
    {
     "data": {
      "text/plain": [
       "(array([ True,  True,  True,  True,  True,  True,  True,  True,  True,\n",
       "         True,  True,  True,  True,  True,  True,  True,  True,  True,\n",
       "         True,  True,  True,  True,  True,  True,  True,  True,  True,\n",
       "         True,  True,  True,  True,  True,  True,  True,  True,  True,\n",
       "         True, False,  True,  True,  True,  True, False,  True,  True,\n",
       "         True,  True,  True,  True,  True,  True,  True,  True,  True,\n",
       "         True,  True,  True,  True,  True,  True,  True,  True, False,\n",
       "        False,  True,  True,  True,  True, False,  True,  True,  True,\n",
       "         True,  True,  True,  True,  True,  True,  True,  True, False,\n",
       "         True,  True,  True,  True,  True,  True,  True,  True,  True,\n",
       "         True,  True,  True,  True,  True,  True,  True,  True,  True,\n",
       "         True]),\n",
       " 0.94)"
      ]
     },
     "execution_count": 70,
     "metadata": {},
     "output_type": "execute_result"
    }
   ],
   "source": [
    "from sklearn.ensemble import StackingClassifier\n",
    "\n",
    "stackclf = StackingClassifier([\n",
    "    ('xt', ExtraTreesClassifier()),\n",
    "    ('rf', RandomForestClassifier()),\n",
    "    ('knn', KNeighborsClassifier())\n",
    "], RandomForestClassifier())\n",
    "\n",
    "stackclf.fit(X_tr, y_tr) \n",
    "sc_pr = stackclf.predict(X_te)\n",
    "schits = sc_pr == y_te\n",
    "schits, sum(schits)/len(schits)\n"
   ]
  }
 ],
 "metadata": {
  "interpreter": {
   "hash": "815f65bdaabb4a34cfa79d14b7891c7753570952fa824e0421a678f5582bbfd3"
  },
  "kernelspec": {
   "display_name": "Python 3.8.10 ('.venv': venv)",
   "language": "python",
   "name": "python3"
  },
  "language_info": {
   "codemirror_mode": {
    "name": "ipython",
    "version": 3
   },
   "file_extension": ".py",
   "mimetype": "text/x-python",
   "name": "python",
   "nbconvert_exporter": "python",
   "pygments_lexer": "ipython3",
   "version": "3.8.10"
  },
  "orig_nbformat": 4
 },
 "nbformat": 4,
 "nbformat_minor": 2
}
