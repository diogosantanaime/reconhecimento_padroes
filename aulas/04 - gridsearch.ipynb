{
 "cells": [
  {
   "cell_type": "code",
   "execution_count": 28,
   "metadata": {},
   "outputs": [
    {
     "data": {
      "text/plain": [
       "dict_keys(['data', 'target', 'frame', 'target_names', 'feature_names', 'DESCR'])"
      ]
     },
     "execution_count": 28,
     "metadata": {},
     "output_type": "execute_result"
    }
   ],
   "source": [
    "from sklearn.datasets import fetch_california_housing\n",
    "housing = fetch_california_housing()\n",
    "housing.keys()"
   ]
  },
  {
   "cell_type": "code",
   "execution_count": 29,
   "metadata": {},
   "outputs": [
    {
     "data": {
      "text/plain": [
       "((20640, 8), (20640,))"
      ]
     },
     "execution_count": 29,
     "metadata": {},
     "output_type": "execute_result"
    }
   ],
   "source": [
    "X, y = housing.data, housing.target\n",
    "X.shape, y.shape"
   ]
  },
  {
   "cell_type": "code",
   "execution_count": 33,
   "metadata": {},
   "outputs": [
    {
     "name": "stdout",
     "output_type": "stream",
     "text": [
      "[1.06204206 1.0429052  1.18034623 1.11082086 1.20043084]\n",
      "{'fit_time': array([0.01677084, 0.01621294, 0.01542091, 0.01412678, 0.01494312]), 'score_time': array([0.02024746, 0.0184505 , 0.01600766, 0.01720572, 0.02355742]), 'test_score': array([1.06204206, 1.0429052 , 1.18034623, 1.11082086, 1.20043084])}\n",
      "Sem padronização: 1.1193090385892301\n"
     ]
    }
   ],
   "source": [
    "from sklearn.metrics import mean_squared_error, make_scorer\n",
    "from sklearn.model_selection import cross_validate\n",
    "from sklearn.neighbors import KNeighborsRegressor\n",
    "import numpy as np\n",
    "\n",
    "modelo = KNeighborsRegressor()\n",
    "scores = cross_validate(modelo, X, y, scoring=make_scorer(mean_squared_error, squared=False))\n",
    "print(scores['test_score'])\n",
    "print(scores)\n",
    "sempad = np.mean(scores['test_score'])\n",
    "print(f\"Sem padronização: {sempad}\")"
   ]
  },
  {
   "cell_type": "code",
   "execution_count": 37,
   "metadata": {},
   "outputs": [
    {
     "data": {
      "text/plain": [
       "GridSearchCV(estimator=KNeighborsRegressor(),\n",
       "             param_grid={'n_neighbors': [3, 5, 7]},\n",
       "             scoring=make_scorer(mean_squared_error, greater_is_better=False, squared=False))"
      ]
     },
     "execution_count": 37,
     "metadata": {},
     "output_type": "execute_result"
    }
   ],
   "source": [
    "from sklearn.model_selection import GridSearchCV\n",
    "\n",
    "parametros = {'n_neighbors': [3,5,7]}\n",
    "\n",
    "modelo = GridSearchCV(KNeighborsRegressor(), parametros, scoring=make_scorer(mean_squared_error, greater_is_better=False, squared=False))\n",
    "modelo.fit(X, y)"
   ]
  },
  {
   "cell_type": "code",
   "execution_count": 20,
   "metadata": {},
   "outputs": [
    {
     "data": {
      "text/plain": [
       "{'mean_fit_time': array([0.01793947, 0.01431694, 0.01421213]),\n",
       " 'std_fit_time': array([0.00250932, 0.00031473, 0.00017878]),\n",
       " 'mean_score_time': array([0.02062955, 0.0168407 , 0.01875701]),\n",
       " 'std_score_time': array([0.00372312, 0.00101215, 0.00095394]),\n",
       " 'param_n_neighbors': masked_array(data=[3, 5, 7],\n",
       "              mask=[False, False, False],\n",
       "        fill_value='?',\n",
       "             dtype=object),\n",
       " 'params': [{'n_neighbors': 3}, {'n_neighbors': 5}, {'n_neighbors': 7}],\n",
       " 'split0_test_score': array([-1.09610429, -1.06204206, -1.05085651]),\n",
       " 'split1_test_score': array([-1.08422426, -1.0429052 , -1.02501342]),\n",
       " 'split2_test_score': array([-1.19488801, -1.18034623, -1.18530073]),\n",
       " 'split3_test_score': array([-1.14627172, -1.11082086, -1.09626923]),\n",
       " 'split4_test_score': array([-1.22886959, -1.20043084, -1.1786578 ]),\n",
       " 'mean_test_score': array([-1.15007158, -1.11930904, -1.10721954]),\n",
       " 'std_test_score': array([0.05564246, 0.0624426 , 0.06519915]),\n",
       " 'rank_test_score': array([3, 2, 1], dtype=int32)}"
      ]
     },
     "execution_count": 20,
     "metadata": {},
     "output_type": "execute_result"
    }
   ],
   "source": [
    "modelo.cv_results_"
   ]
  },
  {
   "cell_type": "code",
   "execution_count": 38,
   "metadata": {},
   "outputs": [
    {
     "data": {
      "text/plain": [
       "KNeighborsRegressor(n_neighbors=7)"
      ]
     },
     "execution_count": 38,
     "metadata": {},
     "output_type": "execute_result"
    }
   ],
   "source": [
    "modelo.best_estimator_"
   ]
  },
  {
   "cell_type": "code",
   "execution_count": 39,
   "metadata": {},
   "outputs": [
    {
     "data": {
      "text/plain": [
       "0.8920520764852705"
      ]
     },
     "execution_count": 39,
     "metadata": {},
     "output_type": "execute_result"
    }
   ],
   "source": [
    "from sklearn.metrics import mean_squared_error\n",
    "from math import sqrt\n",
    "\n",
    "ypred = modelo.predict(X)\n",
    "mse = mean_squared_error(y, ypred)\n",
    "sqrt(mse)"
   ]
  },
  {
   "cell_type": "code",
   "execution_count": 40,
   "metadata": {},
   "outputs": [
    {
     "name": "stdout",
     "output_type": "stream",
     "text": [
      "[1.05085651 1.02501342 1.18530073 1.09626923 1.1786578 ]\n",
      "Sem padronização: 1.1072195374897678\n"
     ]
    }
   ],
   "source": [
    "scores = cross_validate(modelo, X, y, scoring=make_scorer(mean_squared_error, squared=False), return_estimator=True)\n",
    "print(scores['test_score'])\n",
    "sempad = np.mean(scores['test_score'])\n",
    "print(f\"Sem padronização: {sempad}\")"
   ]
  },
  {
   "cell_type": "code",
   "execution_count": 41,
   "metadata": {},
   "outputs": [
    {
     "data": {
      "text/plain": [
       "{'fit_time': array([0.39500642, 0.39957285, 0.37156892, 0.37499475, 0.38206172]),\n",
       " 'score_time': array([0.02429104, 0.01844668, 0.0185101 , 0.01926804, 0.020262  ]),\n",
       " 'estimator': [GridSearchCV(estimator=KNeighborsRegressor(),\n",
       "               param_grid={'n_neighbors': [3, 5, 7]},\n",
       "               scoring=make_scorer(mean_squared_error, greater_is_better=False, squared=False)),\n",
       "  GridSearchCV(estimator=KNeighborsRegressor(),\n",
       "               param_grid={'n_neighbors': [3, 5, 7]},\n",
       "               scoring=make_scorer(mean_squared_error, greater_is_better=False, squared=False)),\n",
       "  GridSearchCV(estimator=KNeighborsRegressor(),\n",
       "               param_grid={'n_neighbors': [3, 5, 7]},\n",
       "               scoring=make_scorer(mean_squared_error, greater_is_better=False, squared=False)),\n",
       "  GridSearchCV(estimator=KNeighborsRegressor(),\n",
       "               param_grid={'n_neighbors': [3, 5, 7]},\n",
       "               scoring=make_scorer(mean_squared_error, greater_is_better=False, squared=False)),\n",
       "  GridSearchCV(estimator=KNeighborsRegressor(),\n",
       "               param_grid={'n_neighbors': [3, 5, 7]},\n",
       "               scoring=make_scorer(mean_squared_error, greater_is_better=False, squared=False))],\n",
       " 'test_score': array([1.05085651, 1.02501342, 1.18530073, 1.09626923, 1.1786578 ])}"
      ]
     },
     "execution_count": 41,
     "metadata": {},
     "output_type": "execute_result"
    }
   ],
   "source": [
    "scores"
   ]
  },
  {
   "cell_type": "code",
   "execution_count": 42,
   "metadata": {},
   "outputs": [
    {
     "name": "stdout",
     "output_type": "stream",
     "text": [
      "KNeighborsRegressor(n_neighbors=7)\n",
      "KNeighborsRegressor(n_neighbors=7)\n",
      "KNeighborsRegressor(n_neighbors=7)\n",
      "KNeighborsRegressor(n_neighbors=7)\n",
      "KNeighborsRegressor(n_neighbors=7)\n"
     ]
    }
   ],
   "source": [
    "for estimator in scores['estimator']:\n",
    "    print(estimator.best_estimator_)"
   ]
  },
  {
   "cell_type": "markdown",
   "metadata": {},
   "source": [
    "Pipelie + GridSearch"
   ]
  },
  {
   "cell_type": "code",
   "execution_count": 46,
   "metadata": {},
   "outputs": [
    {
     "name": "stdout",
     "output_type": "stream",
     "text": [
      "[0.70619214 0.75376284 0.76648122 0.75602218 0.76324968]\n",
      "Com padronização: 0.7491416118627162\n"
     ]
    }
   ],
   "source": [
    "from sklearn.preprocessing import StandardScaler\n",
    "from sklearn.pipeline import Pipeline\n",
    "\n",
    "parametros = {'n_neighbors': [7 ,9 ,11 ,13]}\n",
    "\n",
    "GridSearchKNN = GridSearchCV(KNeighborsRegressor(), parametros, scoring='neg_root_mean_squared_error')\n",
    "\n",
    "modelo = Pipeline([\n",
    "    (\"padronização\", StandardScaler()),\n",
    "    (\"gsknn\", GridSearchKNN)\n",
    "])\n",
    "scores = cross_validate(modelo, X, y, scoring=make_scorer(mean_squared_error, squared=False))\n",
    "print(scores['test_score'])\n",
    "compad = np.mean(scores['test_score'])\n",
    "print(f\"Com padronização: {compad}\")"
   ]
  },
  {
   "cell_type": "code",
   "execution_count": 45,
   "metadata": {},
   "outputs": [
    {
     "name": "stdout",
     "output_type": "stream",
     "text": [
      "[0.70619214 0.75376284 0.76648122 0.75602218 0.76324968]\n",
      "Com padronização: 0.7491416118627162\n"
     ]
    }
   ],
   "source": [
    "pipeline = Pipeline([\n",
    "    (\"padronização\", StandardScaler()),\n",
    "    (\"knn\", KNeighborsRegressor())\n",
    "])\n",
    "\n",
    "parametros = {'knn__n_neighbors': [7,9,11, 13]}\n",
    "\n",
    "modelo = GridSearchCV(pipeline, parametros, scoring='neg_root_mean_squared_error')\n",
    "\n",
    "scores = cross_validate(modelo, X, y, scoring=make_scorer(mean_squared_error, squared=False))\n",
    "print(scores['test_score'])\n",
    "compad = np.mean(scores['test_score'])\n",
    "print(f\"Com padronização: {compad}\")"
   ]
  }
 ],
 "metadata": {
  "interpreter": {
   "hash": "815f65bdaabb4a34cfa79d14b7891c7753570952fa824e0421a678f5582bbfd3"
  },
  "kernelspec": {
   "display_name": "Python 3.8.10 ('.venv': venv)",
   "language": "python",
   "name": "python3"
  },
  "language_info": {
   "codemirror_mode": {
    "name": "ipython",
    "version": 3
   },
   "file_extension": ".py",
   "mimetype": "text/x-python",
   "name": "python",
   "nbconvert_exporter": "python",
   "pygments_lexer": "ipython3",
   "version": "3.8.10"
  },
  "orig_nbformat": 4
 },
 "nbformat": 4,
 "nbformat_minor": 2
}
