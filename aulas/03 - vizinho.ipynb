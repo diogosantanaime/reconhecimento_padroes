{
 "cells": [
  {
   "cell_type": "code",
   "execution_count": 1,
   "metadata": {},
   "outputs": [
    {
     "data": {
      "text/plain": [
       "dict_keys(['data', 'target', 'frame', 'target_names', 'DESCR', 'feature_names'])"
      ]
     },
     "execution_count": 1,
     "metadata": {},
     "output_type": "execute_result"
    }
   ],
   "source": [
    "from sklearn.datasets import load_wine\n",
    "wine = load_wine()\n",
    "wine.keys()"
   ]
  },
  {
   "cell_type": "code",
   "execution_count": 2,
   "metadata": {},
   "outputs": [
    {
     "data": {
      "text/plain": [
       "((178, 13), (178,), {0, 1, 2})"
      ]
     },
     "execution_count": 2,
     "metadata": {},
     "output_type": "execute_result"
    }
   ],
   "source": [
    "X, y = wine.data, wine.target\n",
    "X.shape, y.shape, set(y)"
   ]
  },
  {
   "cell_type": "code",
   "execution_count": 3,
   "metadata": {},
   "outputs": [
    {
     "data": {
      "text/plain": [
       "array([[1.423e+01, 1.710e+00, 2.430e+00, ..., 1.040e+00, 3.920e+00,\n",
       "        1.065e+03],\n",
       "       [1.320e+01, 1.780e+00, 2.140e+00, ..., 1.050e+00, 3.400e+00,\n",
       "        1.050e+03],\n",
       "       [1.316e+01, 2.360e+00, 2.670e+00, ..., 1.030e+00, 3.170e+00,\n",
       "        1.185e+03],\n",
       "       ...,\n",
       "       [1.327e+01, 4.280e+00, 2.260e+00, ..., 5.900e-01, 1.560e+00,\n",
       "        8.350e+02],\n",
       "       [1.317e+01, 2.590e+00, 2.370e+00, ..., 6.000e-01, 1.620e+00,\n",
       "        8.400e+02],\n",
       "       [1.413e+01, 4.100e+00, 2.740e+00, ..., 6.100e-01, 1.600e+00,\n",
       "        5.600e+02]])"
      ]
     },
     "execution_count": 3,
     "metadata": {},
     "output_type": "execute_result"
    }
   ],
   "source": [
    "X"
   ]
  },
  {
   "cell_type": "code",
   "execution_count": 4,
   "metadata": {},
   "outputs": [
    {
     "data": {
      "text/plain": [
       "1.78"
      ]
     },
     "execution_count": 4,
     "metadata": {},
     "output_type": "execute_result"
    }
   ],
   "source": [
    "X[:,1][1]"
   ]
  },
  {
   "cell_type": "code",
   "execution_count": null,
   "metadata": {},
   "outputs": [],
   "source": [
    "import matplotlib.pyplot as plt\n",
    "for i in range(X.shape[1]):\n",
    "    for j in range(X.shape[1]):\n",
    "        plt.xlabel(f\"{i}: {wine.feature_names[i]}\")\n",
    "        plt.ylabel(f\"{j}: {wine.feature_names[j]}\")\n",
    "        print(\"grafico:\", i)\n",
    "        for k in set(y):\n",
    "          plt.plot(X[:,i][y==k], X[:,j][y==k], \"o\", label=f\"{wine.target_names[k]}\")\n",
    "        plt.legend()\n",
    "        plt.show()\n",
    "\n"
   ]
  },
  {
   "cell_type": "code",
   "execution_count": 11,
   "metadata": {},
   "outputs": [
    {
     "data": {
      "image/png": "[encoded data removed]",
      "text/plain": [
       "<Figure size 432x288 with 1 Axes>"
      ]
     },
     "metadata": {
      "needs_background": "light"
     },
     "output_type": "display_data"
    }
   ],
   "source": [
    "import matplotlib.pyplot as plt\n",
    "i,j = 6,9\n",
    "plt.xlabel(f\"{i}: {wine.feature_names[i]}\")\n",
    "plt.ylabel(f\"{j}: {wine.feature_names[j]}\")\n",
    "for k in set(y):\n",
    "    plt.plot(X[:,i][y==k], X[:,j][y==k], \"o\", label=f\"{wine.target_names[k]}\")\n",
    "plt.legend()\n",
    "plt.show()"
   ]
  },
  {
   "cell_type": "code",
   "execution_count": 12,
   "metadata": {},
   "outputs": [
    {
     "data": {
      "text/plain": [
       "(178, 2)"
      ]
     },
     "execution_count": 12,
     "metadata": {},
     "output_type": "execute_result"
    }
   ],
   "source": [
    "X69 = X[:, [6,9]]\n",
    "X69.shape"
   ]
  },
  {
   "cell_type": "code",
   "execution_count": 13,
   "metadata": {},
   "outputs": [],
   "source": [
    "import numpy as np\n",
    "class vizinho():\n",
    "    def fit(self, X, y):\n",
    "        self.X = X\n",
    "        self.y = y\n",
    "    def distancia(self, X):\n",
    "        diferenca = self.X - X\n",
    "        quadrado = diferenca ** 2\n",
    "        soma = np.sum(quadrado, axis=1)\n",
    "        raiz = np.sqrt(soma)\n",
    "        return raiz\n",
    "    def predict(self, X):\n",
    "        ypred = np.empty((X.shape[0],)) #empty - cria um vetor sem inicializar as entradas\n",
    "        for i in range(X.shape[0]):\n",
    "            distancias = self.distancia(X[i])\n",
    "            vizinho = np.argmin(distancias) #argmin - determina o argumento do menor valor\n",
    "            ypred[i] = self.y[vizinho]\n",
    "        return ypred\n"
   ]
  },
  {
   "cell_type": "code",
   "execution_count": 14,
   "metadata": {},
   "outputs": [
    {
     "data": {
      "text/plain": [
       "1.0"
      ]
     },
     "execution_count": 14,
     "metadata": {},
     "output_type": "execute_result"
    }
   ],
   "source": [
    "from sklearn.metrics import accuracy_score\n",
    "modelo = vizinho()\n",
    "modelo.fit(X69, y)\n",
    "ypred = modelo.predict(X69)\n",
    "acuracia = accuracy_score(y, ypred)\n",
    "acuracia"
   ]
  },
  {
   "cell_type": "code",
   "execution_count": null,
   "metadata": {},
   "outputs": [],
   "source": [
    "from sklearn.metrics import accuracy_score\n",
    "modelo = vizinho()\n",
    "modelo.fit(X, y)\n",
    "ypred = modelo.predict(X)\n",
    "acuracia = accuracy_score(y, ypred)\n",
    "acuracia"
   ]
  },
  {
   "cell_type": "code",
   "execution_count": 15,
   "metadata": {},
   "outputs": [
    {
     "data": {
      "text/plain": [
       "((124, 13), (54, 13))"
      ]
     },
     "execution_count": 15,
     "metadata": {},
     "output_type": "execute_result"
    }
   ],
   "source": [
    "ntreino = int(len(y)*0.7)\n",
    "X_treino, X_teste = X[:ntreino], X[ntreino:]\n",
    "y_treino, y_teste = y[:ntreino], y[ntreino:]\n",
    "X_treino.shape, X_teste.shape"
   ]
  },
  {
   "cell_type": "code",
   "execution_count": null,
   "metadata": {},
   "outputs": [],
   "source": [
    "idx = list(range(len(y)))\n",
    "\n",
    "X_tr = X[idx[:ntr]]\n",
    "X_te = X[idx[n_tr:]]"
   ]
  },
  {
   "cell_type": "code",
   "execution_count": 16,
   "metadata": {},
   "outputs": [
    {
     "data": {
      "text/plain": [
       "0.1111111111111111"
      ]
     },
     "execution_count": 16,
     "metadata": {},
     "output_type": "execute_result"
    }
   ],
   "source": [
    "from sklearn.metrics import accuracy_score\n",
    "modelo = vizinho()\n",
    "modelo.fit(X_treino, y_treino)\n",
    "ypred = modelo.predict(X_teste)\n",
    "acuracia = accuracy_score(y_teste, ypred)\n",
    "acuracia"
   ]
  },
  {
   "cell_type": "code",
   "execution_count": null,
   "metadata": {},
   "outputs": [],
   "source": [
    "print(y)\n",
    "print(y_treino)\n",
    "print(y_teste)"
   ]
  },
  {
   "cell_type": "code",
   "execution_count": null,
   "metadata": {},
   "outputs": [],
   "source": [
    "from sklearn.model_selection import train_test_split\n",
    "## Metodo: hold out (treino teste)\n",
    "X_treino, X_teste, y_treino, y_teste = train_test_split(X, y, test_size=0.33, random_state=42) #random_state: mesma separação de treino e teste\n",
    "\n",
    "from sklearn.metrics import accuracy_score\n",
    "modelo = vizinho()\n",
    "modelo.fit(X_treino, y_treino)\n",
    "ypred = modelo.predict(X_teste)\n",
    "acuracia = accuracy_score(y_teste, ypred)\n",
    "acuracia"
   ]
  },
  {
   "cell_type": "markdown",
   "metadata": {},
   "source": [
    "validação alinhada e validação cruzada\n",
    "\n",
    "data shift \n",
    "\n",
    "LSTM - rede recorrente"
   ]
  },
  {
   "cell_type": "code",
   "execution_count": null,
   "metadata": {},
   "outputs": [],
   "source": [
    "import matplotlib.pyplot as plt\n",
    "plt.bar(list(range(X.shape[1])), np.mean(X, axis=0))\n",
    "plt.show()"
   ]
  },
  {
   "cell_type": "code",
   "execution_count": null,
   "metadata": {},
   "outputs": [],
   "source": [
    "from sklearn.preprocessing import StandardScaler\n",
    "\n",
    "scaler = StandardScaler()\n",
    "X_new = scaler.fit_transform(X)\n",
    "\n",
    "import matplotlib.pyplot as plt\n",
    "plt.bar(list(range(X_new.shape[1])), np.mean(X_new, axis=0))\n",
    "plt.show()"
   ]
  },
  {
   "cell_type": "code",
   "execution_count": null,
   "metadata": {},
   "outputs": [],
   "source": [
    "from sklearn.model_selection import cross_validate\n",
    "from sklearn.linear_model import LogisticRegression\n",
    "import numpy as np\n",
    "\n",
    "modelo = LogisticRegression()\n",
    "scores = cross_validate(modelo, X, y)\n",
    "sempad = np.mean(scores['test_score'])\n",
    "print(f\"Sem padronização: {sempad}\")"
   ]
  },
  {
   "cell_type": "code",
   "execution_count": null,
   "metadata": {},
   "outputs": [],
   "source": [
    "scores = cross_validate(modelo, X_new, y)\n",
    "compad = np.mean(scores['test_score'])\n",
    "print(f\"Com padronização: {compad}\")"
   ]
  },
  {
   "cell_type": "code",
   "execution_count": null,
   "metadata": {},
   "outputs": [],
   "source": [
    "from sklearn.pipeline import Pipeline\n",
    "\n",
    "modelo = Pipeline([\n",
    "    (\"padronização\", scaler),\n",
    "    (\"knn\", LogisticRegression())\n",
    "])\n",
    "scores = cross_validate(modelo, X_new, y)\n",
    "aninha = np.mean(scores['test_score'])\n",
    "print(f\"Com padronização aninhada: {aninha}\")"
   ]
  },
  {
   "cell_type": "code",
   "execution_count": null,
   "metadata": {},
   "outputs": [],
   "source": [
    "import matplotlib.pyplot as plt\n",
    "colunas = ['sem scaler', 'com scaler', 'aninhado']\n",
    "plt.bar(colunas, [sempad, compad, aninha])\n",
    "plt.show()"
   ]
  },
  {
   "cell_type": "code",
   "execution_count": null,
   "metadata": {},
   "outputs": [],
   "source": [
    "import matplotlib.pyplot as plt\n",
    "plt.bar(colunas, np.array([sempad, compad, aninha])-0.95, bottom=0.95)\n",
    "plt.show()"
   ]
  }
 ],
 "metadata": {
  "interpreter": {
   "hash": "815f65bdaabb4a34cfa79d14b7891c7753570952fa824e0421a678f5582bbfd3"
  },
  "kernelspec": {
   "display_name": "Python 3.8.10 ('.venv': venv)",
   "language": "python",
   "name": "python3"
  },
  "language_info": {
   "codemirror_mode": {
    "name": "ipython",
    "version": 3
   },
   "file_extension": ".py",
   "mimetype": "text/x-python",
   "name": "python",
   "nbconvert_exporter": "python",
   "pygments_lexer": "ipython3",
   "version": "3.8.10"
  },
  "orig_nbformat": 4
 },
 "nbformat": 4,
 "nbformat_minor": 2
}
